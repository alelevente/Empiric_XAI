{
 "cells": [
  {
   "cell_type": "markdown",
   "id": "0050f2ee-edc3-4298-a23b-8ac4848da1d6",
   "metadata": {},
   "source": [
    "# **Learning**"
   ]
  },
  {
   "cell_type": "code",
   "execution_count": 7,
   "id": "482c4d0f-c20f-4a31-a3a1-ca9835fe3040",
   "metadata": {},
   "outputs": [],
   "source": [
    "import pandas as pd\n",
    "import numpy as np\n",
    "\n",
    "from tensorflow import keras\n",
    "import tensorflow as tf"
   ]
  },
  {
   "cell_type": "markdown",
   "id": "1903a676-3d9a-41aa-9389-7d8cbdaabe44",
   "metadata": {},
   "source": [
    "## **Loading training dataset**"
   ]
  },
  {
   "cell_type": "code",
   "execution_count": 8,
   "id": "d97e8626-f23e-43d5-8be2-32aced26f3cb",
   "metadata": {},
   "outputs": [],
   "source": [
    "TRAINING_SET_FEATURES = \"../01_data/train/under_educated_features.csv\"\n",
    "TRAINING_SET_LABELS = \"../01_data/train/under_educated_labels.csv\""
   ]
  },
  {
   "cell_type": "code",
   "execution_count": 9,
   "id": "a84c4824-3bdf-4201-80ec-4eb6d781def7",
   "metadata": {},
   "outputs": [],
   "source": [
    "X = np.loadtxt(TRAINING_SET_FEATURES)\n",
    "y = np.loadtxt(TRAINING_SET_LABELS)"
   ]
  },
  {
   "cell_type": "code",
   "execution_count": 10,
   "id": "b73821ff-c1d1-46cd-8482-870143db864a",
   "metadata": {},
   "outputs": [
    {
     "data": {
      "text/plain": [
       "((20326, 90), (20326,))"
      ]
     },
     "execution_count": 10,
     "metadata": {},
     "output_type": "execute_result"
    }
   ],
   "source": [
    "X.shape, y.shape"
   ]
  },
  {
   "cell_type": "markdown",
   "id": "3863e64b-97cf-4a15-83e0-d34e5014d4bd",
   "metadata": {},
   "source": [
    "## **Training a neural network**"
   ]
  },
  {
   "cell_type": "markdown",
   "id": "4ba26391-d84e-4bc0-9132-a8df6dc86023",
   "metadata": {},
   "source": [
    "### **Definition of the network**"
   ]
  },
  {
   "cell_type": "code",
   "execution_count": 14,
   "id": "a317a0f2-21b9-4108-913f-e55ee31d0784",
   "metadata": {},
   "outputs": [
    {
     "name": "stdout",
     "output_type": "stream",
     "text": [
      "WARNING:tensorflow:From /home/madbiker/miniconda3/envs/xai/lib/python3.6/site-packages/tensorflow/python/ops/init_ops.py:1251: calling VarianceScaling.__init__ (from tensorflow.python.ops.init_ops) with dtype is deprecated and will be removed in a future version.\n",
      "Instructions for updating:\n",
      "Call initializer instance with the dtype argument instead of passing it to the constructor\n"
     ]
    }
   ],
   "source": [
    "model = tf.keras.models.Sequential([\n",
    "    tf.keras.Input(shape=(X.shape[1])),\n",
    "    keras.layers.BatchNormalization(),\n",
    "    keras.layers.Dense(100, activation=\"sigmoid\"),\n",
    "    keras.layers.Dense(200, activation=\"sigmoid\"),\n",
    "    keras.layers.Dense(500, activation=\"sigmoid\"),\n",
    "    keras.layers.Dense(200, activation=\"sigmoid\"),\n",
    "    keras.layers.Dense(100, activation=\"sigmoid\"),\n",
    "    keras.layers.Dense(1)\n",
    "])"
   ]
  },
  {
   "cell_type": "code",
   "execution_count": 16,
   "id": "7b45f31c-e1d7-4c71-9262-2ec29646d77c",
   "metadata": {},
   "outputs": [
    {
     "name": "stdout",
     "output_type": "stream",
     "text": [
      "Train on 5081 samples, validate on 15245 samples\n",
      "Epoch 1/10\n",
      "5081/5081 [==============================] - 1s 124us/sample - loss: 12.6087 - val_loss: 4.3862\n",
      "Epoch 2/10\n",
      "5081/5081 [==============================] - 0s 54us/sample - loss: 2.3104 - val_loss: 2.0387\n",
      "Epoch 3/10\n",
      "5081/5081 [==============================] - 0s 57us/sample - loss: 1.5101 - val_loss: 0.9973\n",
      "Epoch 4/10\n",
      "5081/5081 [==============================] - 0s 54us/sample - loss: 1.2214 - val_loss: 1.0406\n",
      "Epoch 5/10\n",
      "5081/5081 [==============================] - 0s 56us/sample - loss: 1.1283 - val_loss: 0.9712\n",
      "Epoch 6/10\n",
      "5081/5081 [==============================] - 0s 52us/sample - loss: 1.0866 - val_loss: 0.9954\n",
      "Epoch 7/10\n",
      "5081/5081 [==============================] - 0s 57us/sample - loss: 1.0844 - val_loss: 0.9766\n",
      "Epoch 8/10\n",
      "5081/5081 [==============================] - 0s 52us/sample - loss: 1.0830 - val_loss: 0.9882\n",
      "Epoch 9/10\n",
      "5081/5081 [==============================] - 0s 57us/sample - loss: 1.0839 - val_loss: 1.0016\n",
      "Epoch 10/10\n",
      "5081/5081 [==============================] - 0s 53us/sample - loss: 1.0832 - val_loss: 0.9720\n"
     ]
    },
    {
     "data": {
      "text/plain": [
       "<tensorflow.python.keras.callbacks.History at 0x7f53c38dfb70>"
      ]
     },
     "execution_count": 16,
     "metadata": {},
     "output_type": "execute_result"
    }
   ],
   "source": [
    "opt = keras.optimizers.Adam(learning_rate=0.05)\n",
    "model.compile(optimizer=opt, loss=\"mse\")\n",
    "model.fit(X, y, validation_split=0.75, epochs=10, batch_size=500)"
   ]
  },
  {
   "cell_type": "code",
   "execution_count": null,
   "id": "fcb0d4a9-a05d-41dc-8649-c4d087320d19",
   "metadata": {},
   "outputs": [],
   "source": []
  }
 ],
 "metadata": {
  "kernelspec": {
   "display_name": "xai",
   "language": "python",
   "name": "xai"
  },
  "language_info": {
   "codemirror_mode": {
    "name": "ipython",
    "version": 3
   },
   "file_extension": ".py",
   "mimetype": "text/x-python",
   "name": "python",
   "nbconvert_exporter": "python",
   "pygments_lexer": "ipython3",
   "version": "3.6.13"
  }
 },
 "nbformat": 4,
 "nbformat_minor": 5
}
