{
 "cells": [
  {
   "cell_type": "markdown",
   "id": "0050f2ee-edc3-4298-a23b-8ac4848da1d6",
   "metadata": {},
   "source": [
    "# **Learning**"
   ]
  },
  {
   "cell_type": "code",
   "execution_count": 1,
   "id": "d97e8626-f23e-43d5-8be2-32aced26f3cb",
   "metadata": {},
   "outputs": [],
   "source": [
    "TRAINING_SET_FEATURES = \"../01_data/train/under_educated_features.csv\"\n",
    "TRAINING_SET_LABELS = \"../01_data/train/under_educated_labels.csv\"\n",
    "\n",
    "MODEL_NAME = \"under_educated\""
   ]
  },
  {
   "cell_type": "code",
   "execution_count": 2,
   "id": "482c4d0f-c20f-4a31-a3a1-ca9835fe3040",
   "metadata": {},
   "outputs": [
    {
     "name": "stderr",
     "output_type": "stream",
     "text": [
      "/home/madbiker/miniconda3/envs/xai/lib/python3.6/site-packages/tensorflow/python/framework/dtypes.py:516: FutureWarning: Passing (type, 1) or '1type' as a synonym of type is deprecated; in a future version of numpy, it will be understood as (type, (1,)) / '(1,)type'.\n",
      "  _np_qint8 = np.dtype([(\"qint8\", np.int8, 1)])\n",
      "/home/madbiker/miniconda3/envs/xai/lib/python3.6/site-packages/tensorflow/python/framework/dtypes.py:517: FutureWarning: Passing (type, 1) or '1type' as a synonym of type is deprecated; in a future version of numpy, it will be understood as (type, (1,)) / '(1,)type'.\n",
      "  _np_quint8 = np.dtype([(\"quint8\", np.uint8, 1)])\n",
      "/home/madbiker/miniconda3/envs/xai/lib/python3.6/site-packages/tensorflow/python/framework/dtypes.py:518: FutureWarning: Passing (type, 1) or '1type' as a synonym of type is deprecated; in a future version of numpy, it will be understood as (type, (1,)) / '(1,)type'.\n",
      "  _np_qint16 = np.dtype([(\"qint16\", np.int16, 1)])\n",
      "/home/madbiker/miniconda3/envs/xai/lib/python3.6/site-packages/tensorflow/python/framework/dtypes.py:519: FutureWarning: Passing (type, 1) or '1type' as a synonym of type is deprecated; in a future version of numpy, it will be understood as (type, (1,)) / '(1,)type'.\n",
      "  _np_quint16 = np.dtype([(\"quint16\", np.uint16, 1)])\n",
      "/home/madbiker/miniconda3/envs/xai/lib/python3.6/site-packages/tensorflow/python/framework/dtypes.py:520: FutureWarning: Passing (type, 1) or '1type' as a synonym of type is deprecated; in a future version of numpy, it will be understood as (type, (1,)) / '(1,)type'.\n",
      "  _np_qint32 = np.dtype([(\"qint32\", np.int32, 1)])\n",
      "/home/madbiker/miniconda3/envs/xai/lib/python3.6/site-packages/tensorflow/python/framework/dtypes.py:525: FutureWarning: Passing (type, 1) or '1type' as a synonym of type is deprecated; in a future version of numpy, it will be understood as (type, (1,)) / '(1,)type'.\n",
      "  np_resource = np.dtype([(\"resource\", np.ubyte, 1)])\n",
      "/home/madbiker/miniconda3/envs/xai/lib/python3.6/site-packages/tensorboard/compat/tensorflow_stub/dtypes.py:541: FutureWarning: Passing (type, 1) or '1type' as a synonym of type is deprecated; in a future version of numpy, it will be understood as (type, (1,)) / '(1,)type'.\n",
      "  _np_qint8 = np.dtype([(\"qint8\", np.int8, 1)])\n",
      "/home/madbiker/miniconda3/envs/xai/lib/python3.6/site-packages/tensorboard/compat/tensorflow_stub/dtypes.py:542: FutureWarning: Passing (type, 1) or '1type' as a synonym of type is deprecated; in a future version of numpy, it will be understood as (type, (1,)) / '(1,)type'.\n",
      "  _np_quint8 = np.dtype([(\"quint8\", np.uint8, 1)])\n",
      "/home/madbiker/miniconda3/envs/xai/lib/python3.6/site-packages/tensorboard/compat/tensorflow_stub/dtypes.py:543: FutureWarning: Passing (type, 1) or '1type' as a synonym of type is deprecated; in a future version of numpy, it will be understood as (type, (1,)) / '(1,)type'.\n",
      "  _np_qint16 = np.dtype([(\"qint16\", np.int16, 1)])\n",
      "/home/madbiker/miniconda3/envs/xai/lib/python3.6/site-packages/tensorboard/compat/tensorflow_stub/dtypes.py:544: FutureWarning: Passing (type, 1) or '1type' as a synonym of type is deprecated; in a future version of numpy, it will be understood as (type, (1,)) / '(1,)type'.\n",
      "  _np_quint16 = np.dtype([(\"quint16\", np.uint16, 1)])\n",
      "/home/madbiker/miniconda3/envs/xai/lib/python3.6/site-packages/tensorboard/compat/tensorflow_stub/dtypes.py:545: FutureWarning: Passing (type, 1) or '1type' as a synonym of type is deprecated; in a future version of numpy, it will be understood as (type, (1,)) / '(1,)type'.\n",
      "  _np_qint32 = np.dtype([(\"qint32\", np.int32, 1)])\n",
      "/home/madbiker/miniconda3/envs/xai/lib/python3.6/site-packages/tensorboard/compat/tensorflow_stub/dtypes.py:550: FutureWarning: Passing (type, 1) or '1type' as a synonym of type is deprecated; in a future version of numpy, it will be understood as (type, (1,)) / '(1,)type'.\n",
      "  np_resource = np.dtype([(\"resource\", np.ubyte, 1)])\n"
     ]
    }
   ],
   "source": [
    "import pandas as pd\n",
    "import numpy as np\n",
    "\n",
    "from tensorflow import keras\n",
    "import tensorflow as tf"
   ]
  },
  {
   "cell_type": "markdown",
   "id": "1903a676-3d9a-41aa-9389-7d8cbdaabe44",
   "metadata": {},
   "source": [
    "## **Loading training dataset**"
   ]
  },
  {
   "cell_type": "code",
   "execution_count": 3,
   "id": "a84c4824-3bdf-4201-80ec-4eb6d781def7",
   "metadata": {},
   "outputs": [],
   "source": [
    "X = np.loadtxt(TRAINING_SET_FEATURES, delimiter=\",\")\n",
    "X = np.vstack([X, np.loadtxt(\"../01_data/train/college_educated_features.csv\", delimiter=\",\")])\n",
    "y = np.loadtxt(TRAINING_SET_LABELS, delimiter=\",\")\n",
    "y_p = np.loadtxt(\"../01_data/train/college_educated_labels.csv\", delimiter=\",\")\n",
    "y = np.concatenate([y, y_p])"
   ]
  },
  {
   "cell_type": "markdown",
   "id": "3863e64b-97cf-4a15-83e0-d34e5014d4bd",
   "metadata": {},
   "source": [
    "## **Training a neural network**"
   ]
  },
  {
   "cell_type": "code",
   "execution_count": 4,
   "id": "a317a0f2-21b9-4108-913f-e55ee31d0784",
   "metadata": {},
   "outputs": [
    {
     "name": "stdout",
     "output_type": "stream",
     "text": [
      "WARNING:tensorflow:From /home/madbiker/miniconda3/envs/xai/lib/python3.6/site-packages/tensorflow/python/ops/init_ops.py:1251: calling VarianceScaling.__init__ (from tensorflow.python.ops.init_ops) with dtype is deprecated and will be removed in a future version.\n",
      "Instructions for updating:\n",
      "Call initializer instance with the dtype argument instead of passing it to the constructor\n"
     ]
    }
   ],
   "source": [
    "import neural_network\n",
    "from importlib import reload\n",
    "reload(neural_network)\n",
    "\n",
    "model = neural_network.create_model(X)"
   ]
  },
  {
   "cell_type": "code",
   "execution_count": 5,
   "id": "7b45f31c-e1d7-4c71-9262-2ec29646d77c",
   "metadata": {},
   "outputs": [
    {
     "name": "stdout",
     "output_type": "stream",
     "text": [
      "Train on 28212 samples, validate on 3135 samples\n",
      "Epoch 1/100\n",
      "28212/28212 [==============================] - 0s 17us/sample - loss: 1.0218 - val_loss: 0.9872\n",
      "Epoch 2/100\n",
      "28212/28212 [==============================] - 0s 8us/sample - loss: 0.9007 - val_loss: 0.8519\n",
      "Epoch 3/100\n",
      "28212/28212 [==============================] - 0s 8us/sample - loss: 0.8395 - val_loss: 0.8213\n",
      "Epoch 4/100\n",
      "28212/28212 [==============================] - 0s 8us/sample - loss: 0.8152 - val_loss: 0.8015\n",
      "Epoch 5/100\n",
      "28212/28212 [==============================] - 0s 8us/sample - loss: 0.8028 - val_loss: 0.8020\n",
      "Epoch 6/100\n",
      "28212/28212 [==============================] - 0s 8us/sample - loss: 0.7981 - val_loss: 0.7912\n",
      "Epoch 7/100\n",
      "28212/28212 [==============================] - 0s 10us/sample - loss: 0.7932 - val_loss: 0.7887\n",
      "Epoch 8/100\n",
      "28212/28212 [==============================] - 0s 9us/sample - loss: 0.7878 - val_loss: 0.8038\n",
      "Epoch 9/100\n",
      "28212/28212 [==============================] - 0s 8us/sample - loss: 0.7912 - val_loss: 0.7822\n",
      "Epoch 10/100\n",
      "28212/28212 [==============================] - 0s 8us/sample - loss: 0.7846 - val_loss: 0.7828\n",
      "Epoch 11/100\n",
      "28212/28212 [==============================] - 0s 8us/sample - loss: 0.7838 - val_loss: 0.7853\n",
      "Epoch 12/100\n",
      "28212/28212 [==============================] - 0s 8us/sample - loss: 0.7808 - val_loss: 0.7909\n",
      "Epoch 13/100\n",
      "28212/28212 [==============================] - 0s 8us/sample - loss: 0.7772 - val_loss: 0.8109\n",
      "Epoch 14/100\n",
      "28212/28212 [==============================] - 0s 9us/sample - loss: 0.7705 - val_loss: 0.7679\n",
      "Epoch 15/100\n",
      "28212/28212 [==============================] - 0s 8us/sample - loss: 0.7718 - val_loss: 0.7668\n",
      "Epoch 16/100\n",
      "28212/28212 [==============================] - 0s 10us/sample - loss: 0.7739 - val_loss: 0.7811\n",
      "Epoch 17/100\n",
      "28212/28212 [==============================] - 0s 8us/sample - loss: 0.7666 - val_loss: 0.7771\n",
      "Epoch 18/100\n",
      "28212/28212 [==============================] - 0s 12us/sample - loss: 0.7661 - val_loss: 0.7774\n",
      "Epoch 19/100\n",
      "28212/28212 [==============================] - 0s 11us/sample - loss: 0.7641 - val_loss: 0.7802\n",
      "Epoch 20/100\n",
      "28212/28212 [==============================] - 0s 8us/sample - loss: 0.7629 - val_loss: 0.7719\n",
      "Epoch 21/100\n",
      "28212/28212 [==============================] - 0s 8us/sample - loss: 0.7626 - val_loss: 0.7704\n",
      "Epoch 22/100\n",
      "28212/28212 [==============================] - 0s 8us/sample - loss: 0.7609 - val_loss: 0.7775\n",
      "Epoch 23/100\n",
      "28212/28212 [==============================] - 0s 8us/sample - loss: 0.7642 - val_loss: 0.7583\n",
      "Epoch 24/100\n",
      "28212/28212 [==============================] - 0s 7us/sample - loss: 0.7606 - val_loss: 0.7713\n",
      "Epoch 25/100\n",
      "28212/28212 [==============================] - 0s 8us/sample - loss: 0.7572 - val_loss: 0.7620\n",
      "Epoch 26/100\n",
      "28212/28212 [==============================] - 0s 8us/sample - loss: 0.7581 - val_loss: 0.7580\n",
      "Epoch 27/100\n",
      "28212/28212 [==============================] - 0s 8us/sample - loss: 0.7589 - val_loss: 0.7602\n",
      "Epoch 28/100\n",
      "28212/28212 [==============================] - 0s 8us/sample - loss: 0.7551 - val_loss: 0.7585\n",
      "Epoch 29/100\n",
      "28212/28212 [==============================] - 0s 8us/sample - loss: 0.7546 - val_loss: 0.7725\n",
      "Epoch 30/100\n",
      "28212/28212 [==============================] - 0s 8us/sample - loss: 0.7560 - val_loss: 0.7634\n",
      "Epoch 31/100\n",
      "28212/28212 [==============================] - 0s 8us/sample - loss: 0.7514 - val_loss: 0.7593\n",
      "Epoch 32/100\n",
      "28212/28212 [==============================] - 0s 8us/sample - loss: 0.7528 - val_loss: 0.7502\n",
      "Epoch 33/100\n",
      "28212/28212 [==============================] - 0s 8us/sample - loss: 0.7517 - val_loss: 0.7503\n",
      "Epoch 34/100\n",
      "28212/28212 [==============================] - 0s 9us/sample - loss: 0.7504 - val_loss: 0.7546\n",
      "Epoch 35/100\n",
      "28212/28212 [==============================] - 0s 8us/sample - loss: 0.7490 - val_loss: 0.7554\n",
      "Epoch 36/100\n",
      "28212/28212 [==============================] - 0s 8us/sample - loss: 0.7477 - val_loss: 0.7495\n",
      "Epoch 37/100\n",
      "28212/28212 [==============================] - 0s 8us/sample - loss: 0.7470 - val_loss: 0.7514\n",
      "Epoch 38/100\n",
      "28212/28212 [==============================] - 0s 8us/sample - loss: 0.7487 - val_loss: 0.7689\n",
      "Epoch 39/100\n",
      "28212/28212 [==============================] - 0s 8us/sample - loss: 0.7506 - val_loss: 0.7540\n",
      "Epoch 40/100\n",
      "28212/28212 [==============================] - 0s 11us/sample - loss: 0.7481 - val_loss: 0.7525\n",
      "Epoch 41/100\n",
      "28212/28212 [==============================] - 0s 8us/sample - loss: 0.7486 - val_loss: 0.7551\n",
      "Epoch 42/100\n",
      "28212/28212 [==============================] - 0s 8us/sample - loss: 0.7459 - val_loss: 0.7590\n",
      "Epoch 43/100\n",
      "28212/28212 [==============================] - 0s 8us/sample - loss: 0.7467 - val_loss: 0.7585\n",
      "Epoch 44/100\n",
      "28212/28212 [==============================] - 0s 8us/sample - loss: 0.7500 - val_loss: 0.7572\n",
      "Epoch 45/100\n",
      "28212/28212 [==============================] - 0s 8us/sample - loss: 0.7435 - val_loss: 0.7712\n",
      "Epoch 46/100\n",
      "28212/28212 [==============================] - 0s 8us/sample - loss: 0.7460 - val_loss: 0.7611\n",
      "Epoch 47/100\n",
      "28212/28212 [==============================] - 0s 8us/sample - loss: 0.7433 - val_loss: 0.7533\n",
      "Epoch 48/100\n",
      "28212/28212 [==============================] - 0s 8us/sample - loss: 0.7454 - val_loss: 0.7539\n",
      "Epoch 49/100\n",
      "28212/28212 [==============================] - 0s 8us/sample - loss: 0.7446 - val_loss: 0.7513\n",
      "Epoch 50/100\n",
      "28212/28212 [==============================] - 0s 7us/sample - loss: 0.7456 - val_loss: 0.7643\n",
      "Epoch 51/100\n",
      "28212/28212 [==============================] - 0s 8us/sample - loss: 0.7430 - val_loss: 0.7538\n",
      "Epoch 52/100\n",
      "28212/28212 [==============================] - 0s 8us/sample - loss: 0.7413 - val_loss: 0.7594\n",
      "Epoch 53/100\n",
      "28212/28212 [==============================] - 0s 8us/sample - loss: 0.7407 - val_loss: 0.7707\n",
      "Epoch 54/100\n",
      "28212/28212 [==============================] - 0s 8us/sample - loss: 0.7428 - val_loss: 0.7627\n",
      "Epoch 55/100\n",
      "28212/28212 [==============================] - 0s 7us/sample - loss: 0.7406 - val_loss: 0.7489\n",
      "Epoch 56/100\n",
      "28212/28212 [==============================] - 0s 8us/sample - loss: 0.7433 - val_loss: 0.7540\n",
      "Epoch 57/100\n",
      "28212/28212 [==============================] - 0s 10us/sample - loss: 0.7418 - val_loss: 0.7489\n",
      "Epoch 58/100\n",
      "28212/28212 [==============================] - 0s 8us/sample - loss: 0.7374 - val_loss: 0.7529\n",
      "Epoch 59/100\n",
      "28212/28212 [==============================] - 0s 8us/sample - loss: 0.7408 - val_loss: 0.7447\n",
      "Epoch 60/100\n",
      "28212/28212 [==============================] - 0s 10us/sample - loss: 0.7401 - val_loss: 0.7433\n",
      "Epoch 61/100\n",
      "28212/28212 [==============================] - 0s 8us/sample - loss: 0.7420 - val_loss: 0.7419\n",
      "Epoch 62/100\n",
      "28212/28212 [==============================] - 0s 8us/sample - loss: 0.7371 - val_loss: 0.7424\n",
      "Epoch 63/100\n",
      "28212/28212 [==============================] - 0s 8us/sample - loss: 0.7363 - val_loss: 0.7505\n",
      "Epoch 64/100\n",
      "28212/28212 [==============================] - 0s 8us/sample - loss: 0.7352 - val_loss: 0.7462\n",
      "Epoch 65/100\n",
      "28212/28212 [==============================] - 0s 8us/sample - loss: 0.7345 - val_loss: 0.7591\n",
      "Epoch 66/100\n",
      "28212/28212 [==============================] - 0s 8us/sample - loss: 0.7358 - val_loss: 0.7548\n",
      "Epoch 67/100\n",
      "28212/28212 [==============================] - 0s 8us/sample - loss: 0.7405 - val_loss: 0.7621\n",
      "Epoch 68/100\n",
      "28212/28212 [==============================] - 0s 8us/sample - loss: 0.7363 - val_loss: 0.7537\n",
      "Epoch 69/100\n",
      "28212/28212 [==============================] - 0s 8us/sample - loss: 0.7355 - val_loss: 0.7548\n",
      "Epoch 70/100\n",
      "28212/28212 [==============================] - 0s 8us/sample - loss: 0.7356 - val_loss: 0.7561\n",
      "Epoch 71/100\n",
      "28212/28212 [==============================] - 0s 8us/sample - loss: 0.7357 - val_loss: 0.7507\n",
      "Epoch 72/100\n",
      "28212/28212 [==============================] - 0s 8us/sample - loss: 0.7320 - val_loss: 0.7555\n",
      "Epoch 73/100\n",
      "28212/28212 [==============================] - 0s 8us/sample - loss: 0.7363 - val_loss: 0.7481\n",
      "Epoch 74/100\n",
      "28212/28212 [==============================] - 0s 8us/sample - loss: 0.7313 - val_loss: 0.7475\n",
      "Epoch 75/100\n",
      "28212/28212 [==============================] - 0s 8us/sample - loss: 0.7373 - val_loss: 0.7444\n",
      "Epoch 76/100\n",
      "28212/28212 [==============================] - 0s 11us/sample - loss: 0.7332 - val_loss: 0.7533\n",
      "Epoch 77/100\n",
      "28212/28212 [==============================] - 0s 9us/sample - loss: 0.7334 - val_loss: 0.7491\n",
      "Epoch 78/100\n",
      "28212/28212 [==============================] - 0s 8us/sample - loss: 0.7342 - val_loss: 0.7435\n",
      "Epoch 79/100\n",
      "28212/28212 [==============================] - 0s 8us/sample - loss: 0.7350 - val_loss: 0.7475\n",
      "Epoch 80/100\n",
      "28212/28212 [==============================] - 0s 8us/sample - loss: 0.7322 - val_loss: 0.7409\n",
      "Epoch 81/100\n",
      "28212/28212 [==============================] - 0s 8us/sample - loss: 0.7326 - val_loss: 0.7414\n",
      "Epoch 82/100\n",
      "28212/28212 [==============================] - 0s 8us/sample - loss: 0.7336 - val_loss: 0.7455\n",
      "Epoch 83/100\n",
      "28212/28212 [==============================] - 0s 8us/sample - loss: 0.7322 - val_loss: 0.7475\n",
      "Epoch 84/100\n",
      "28212/28212 [==============================] - 0s 9us/sample - loss: 0.7330 - val_loss: 0.7439\n",
      "Epoch 85/100\n",
      "28212/28212 [==============================] - 0s 8us/sample - loss: 0.7342 - val_loss: 0.7403\n",
      "Epoch 86/100\n",
      "28212/28212 [==============================] - 0s 8us/sample - loss: 0.7312 - val_loss: 0.7401\n",
      "Epoch 87/100\n",
      "28212/28212 [==============================] - 0s 8us/sample - loss: 0.7270 - val_loss: 0.7480\n",
      "Epoch 88/100\n",
      "28212/28212 [==============================] - 0s 8us/sample - loss: 0.7344 - val_loss: 0.7542\n",
      "Epoch 89/100\n",
      "28212/28212 [==============================] - 0s 8us/sample - loss: 0.7321 - val_loss: 0.7498\n",
      "Epoch 90/100\n",
      "28212/28212 [==============================] - 0s 8us/sample - loss: 0.7316 - val_loss: 0.7415\n",
      "Epoch 91/100\n",
      "28212/28212 [==============================] - 0s 7us/sample - loss: 0.7278 - val_loss: 0.7433\n",
      "Epoch 92/100\n",
      "28212/28212 [==============================] - 0s 8us/sample - loss: 0.7272 - val_loss: 0.7550\n",
      "Epoch 93/100\n",
      "28212/28212 [==============================] - 0s 10us/sample - loss: 0.7290 - val_loss: 0.7557\n",
      "Epoch 94/100\n",
      "28212/28212 [==============================] - 0s 8us/sample - loss: 0.7289 - val_loss: 0.7490\n",
      "Epoch 95/100\n",
      "28212/28212 [==============================] - 0s 8us/sample - loss: 0.7271 - val_loss: 0.7436\n",
      "Epoch 96/100\n",
      "28212/28212 [==============================] - 0s 12us/sample - loss: 0.7291 - val_loss: 0.7502\n",
      "Epoch 97/100\n",
      "28212/28212 [==============================] - 0s 9us/sample - loss: 0.7264 - val_loss: 0.7466\n",
      "Epoch 98/100\n",
      "28212/28212 [==============================] - 0s 8us/sample - loss: 0.7295 - val_loss: 0.7494\n",
      "Epoch 99/100\n",
      "28212/28212 [==============================] - 0s 8us/sample - loss: 0.7246 - val_loss: 0.7459\n",
      "Epoch 100/100\n",
      "28212/28212 [==============================] - 0s 8us/sample - loss: 0.7260 - val_loss: 0.7396\n"
     ]
    }
   ],
   "source": [
    "opt = keras.optimizers.Adam(learning_rate=0.0025)\n",
    "model.compile(optimizer=opt, loss=\"categorical_crossentropy\")\n",
    "history = model.fit(X, y, validation_split=0.1, epochs=100, batch_size=2000)"
   ]
  },
  {
   "cell_type": "code",
   "execution_count": 6,
   "id": "fcb0d4a9-a05d-41dc-8649-c4d087320d19",
   "metadata": {},
   "outputs": [],
   "source": [
    "import matplotlib.pyplot as plt"
   ]
  },
  {
   "cell_type": "code",
   "execution_count": 7,
   "id": "1b521aca-f2e0-460e-bb95-1ed2c3f1763f",
   "metadata": {},
   "outputs": [
    {
     "data": {
      "text/plain": [
       "<matplotlib.legend.Legend at 0x7f663fd0ff60>"
      ]
     },
     "execution_count": 7,
     "metadata": {},
     "output_type": "execute_result"
    },
    {
     "data": {
      "image/png": "[encoded data removed]",
      "text/plain": [
       "<Figure size 432x288 with 1 Axes>"
      ]
     },
     "metadata": {
      "needs_background": "light"
     },
     "output_type": "display_data"
    }
   ],
   "source": [
    "plt.plot(history.history[\"loss\"], label=\"train loss\")\n",
    "plt.plot(history.history[\"val_loss\"], label=\"val loss\")\n",
    "plt.legend()"
   ]
  },
  {
   "cell_type": "markdown",
   "id": "07ed28c2-d565-435a-91af-b3582876085d",
   "metadata": {},
   "source": [
    "## **Saving the model**"
   ]
  },
  {
   "cell_type": "code",
   "execution_count": 8,
   "id": "2b5a0dc0-ebf6-4345-b383-3d99a21fa335",
   "metadata": {},
   "outputs": [],
   "source": [
    "model.save_weights(\"../03_models/\"+MODEL_NAME+\"/\")"
   ]
  }
 ],
 "metadata": {
  "kernelspec": {
   "display_name": "xai",
   "language": "python",
   "name": "xai"
  },
  "language_info": {
   "codemirror_mode": {
    "name": "ipython",
    "version": 3
   },
   "file_extension": ".py",
   "mimetype": "text/x-python",
   "name": "python",
   "nbconvert_exporter": "python",
   "pygments_lexer": "ipython3",
   "version": "3.6.13"
  }
 },
 "nbformat": 4,
 "nbformat_minor": 5
}
