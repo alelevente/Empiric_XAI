{
 "cells": [
  {
   "cell_type": "markdown",
   "id": "0050f2ee-edc3-4298-a23b-8ac4848da1d6",
   "metadata": {},
   "source": [
    "# **Learning**"
   ]
  },
  {
   "cell_type": "code",
   "execution_count": 1,
   "id": "d97e8626-f23e-43d5-8be2-32aced26f3cb",
   "metadata": {},
   "outputs": [],
   "source": [
    "TRAINING_SET_FEATURES = \"../01_data/train/well_educated_features.csv\"\n",
    "TRAINING_SET_LABELS = \"../01_data/train/well_educated_labels.csv\"\n",
    "\n",
    "MODEL_NAME = \"well_educated\""
   ]
  },
  {
   "cell_type": "code",
   "execution_count": 2,
   "id": "482c4d0f-c20f-4a31-a3a1-ca9835fe3040",
   "metadata": {},
   "outputs": [
    {
     "name": "stderr",
     "output_type": "stream",
     "text": [
      "/home/madbiker/miniconda3/envs/xai/lib/python3.6/site-packages/tensorflow/python/framework/dtypes.py:516: FutureWarning: Passing (type, 1) or '1type' as a synonym of type is deprecated; in a future version of numpy, it will be understood as (type, (1,)) / '(1,)type'.\n",
      "  _np_qint8 = np.dtype([(\"qint8\", np.int8, 1)])\n",
      "/home/madbiker/miniconda3/envs/xai/lib/python3.6/site-packages/tensorflow/python/framework/dtypes.py:517: FutureWarning: Passing (type, 1) or '1type' as a synonym of type is deprecated; in a future version of numpy, it will be understood as (type, (1,)) / '(1,)type'.\n",
      "  _np_quint8 = np.dtype([(\"quint8\", np.uint8, 1)])\n",
      "/home/madbiker/miniconda3/envs/xai/lib/python3.6/site-packages/tensorflow/python/framework/dtypes.py:518: FutureWarning: Passing (type, 1) or '1type' as a synonym of type is deprecated; in a future version of numpy, it will be understood as (type, (1,)) / '(1,)type'.\n",
      "  _np_qint16 = np.dtype([(\"qint16\", np.int16, 1)])\n",
      "/home/madbiker/miniconda3/envs/xai/lib/python3.6/site-packages/tensorflow/python/framework/dtypes.py:519: FutureWarning: Passing (type, 1) or '1type' as a synonym of type is deprecated; in a future version of numpy, it will be understood as (type, (1,)) / '(1,)type'.\n",
      "  _np_quint16 = np.dtype([(\"quint16\", np.uint16, 1)])\n",
      "/home/madbiker/miniconda3/envs/xai/lib/python3.6/site-packages/tensorflow/python/framework/dtypes.py:520: FutureWarning: Passing (type, 1) or '1type' as a synonym of type is deprecated; in a future version of numpy, it will be understood as (type, (1,)) / '(1,)type'.\n",
      "  _np_qint32 = np.dtype([(\"qint32\", np.int32, 1)])\n",
      "/home/madbiker/miniconda3/envs/xai/lib/python3.6/site-packages/tensorflow/python/framework/dtypes.py:525: FutureWarning: Passing (type, 1) or '1type' as a synonym of type is deprecated; in a future version of numpy, it will be understood as (type, (1,)) / '(1,)type'.\n",
      "  np_resource = np.dtype([(\"resource\", np.ubyte, 1)])\n",
      "/home/madbiker/miniconda3/envs/xai/lib/python3.6/site-packages/tensorboard/compat/tensorflow_stub/dtypes.py:541: FutureWarning: Passing (type, 1) or '1type' as a synonym of type is deprecated; in a future version of numpy, it will be understood as (type, (1,)) / '(1,)type'.\n",
      "  _np_qint8 = np.dtype([(\"qint8\", np.int8, 1)])\n",
      "/home/madbiker/miniconda3/envs/xai/lib/python3.6/site-packages/tensorboard/compat/tensorflow_stub/dtypes.py:542: FutureWarning: Passing (type, 1) or '1type' as a synonym of type is deprecated; in a future version of numpy, it will be understood as (type, (1,)) / '(1,)type'.\n",
      "  _np_quint8 = np.dtype([(\"quint8\", np.uint8, 1)])\n",
      "/home/madbiker/miniconda3/envs/xai/lib/python3.6/site-packages/tensorboard/compat/tensorflow_stub/dtypes.py:543: FutureWarning: Passing (type, 1) or '1type' as a synonym of type is deprecated; in a future version of numpy, it will be understood as (type, (1,)) / '(1,)type'.\n",
      "  _np_qint16 = np.dtype([(\"qint16\", np.int16, 1)])\n",
      "/home/madbiker/miniconda3/envs/xai/lib/python3.6/site-packages/tensorboard/compat/tensorflow_stub/dtypes.py:544: FutureWarning: Passing (type, 1) or '1type' as a synonym of type is deprecated; in a future version of numpy, it will be understood as (type, (1,)) / '(1,)type'.\n",
      "  _np_quint16 = np.dtype([(\"quint16\", np.uint16, 1)])\n",
      "/home/madbiker/miniconda3/envs/xai/lib/python3.6/site-packages/tensorboard/compat/tensorflow_stub/dtypes.py:545: FutureWarning: Passing (type, 1) or '1type' as a synonym of type is deprecated; in a future version of numpy, it will be understood as (type, (1,)) / '(1,)type'.\n",
      "  _np_qint32 = np.dtype([(\"qint32\", np.int32, 1)])\n",
      "/home/madbiker/miniconda3/envs/xai/lib/python3.6/site-packages/tensorboard/compat/tensorflow_stub/dtypes.py:550: FutureWarning: Passing (type, 1) or '1type' as a synonym of type is deprecated; in a future version of numpy, it will be understood as (type, (1,)) / '(1,)type'.\n",
      "  np_resource = np.dtype([(\"resource\", np.ubyte, 1)])\n"
     ]
    }
   ],
   "source": [
    "import pandas as pd\n",
    "import numpy as np\n",
    "\n",
    "from tensorflow import keras\n",
    "import tensorflow as tf"
   ]
  },
  {
   "cell_type": "markdown",
   "id": "1903a676-3d9a-41aa-9389-7d8cbdaabe44",
   "metadata": {},
   "source": [
    "## **Loading training dataset**"
   ]
  },
  {
   "cell_type": "code",
   "execution_count": 3,
   "id": "a84c4824-3bdf-4201-80ec-4eb6d781def7",
   "metadata": {},
   "outputs": [],
   "source": [
    "X = np.loadtxt(TRAINING_SET_FEATURES, delimiter=\",\")\n",
    "X = np.vstack([X, np.loadtxt(\"../01_data/train/college_educated_features.csv\", delimiter=\",\")])\n",
    "y = np.loadtxt(TRAINING_SET_LABELS, delimiter=\",\")\n",
    "y_p = np.loadtxt(\"../01_data/train/college_educated_labels.csv\", delimiter=\",\")\n",
    "y = np.concatenate([y, y_p])"
   ]
  },
  {
   "cell_type": "markdown",
   "id": "3863e64b-97cf-4a15-83e0-d34e5014d4bd",
   "metadata": {},
   "source": [
    "## **Training a neural network**"
   ]
  },
  {
   "cell_type": "code",
   "execution_count": 4,
   "id": "a317a0f2-21b9-4108-913f-e55ee31d0784",
   "metadata": {},
   "outputs": [
    {
     "name": "stdout",
     "output_type": "stream",
     "text": [
      "WARNING:tensorflow:From /home/madbiker/miniconda3/envs/xai/lib/python3.6/site-packages/tensorflow/python/ops/init_ops.py:1251: calling VarianceScaling.__init__ (from tensorflow.python.ops.init_ops) with dtype is deprecated and will be removed in a future version.\n",
      "Instructions for updating:\n",
      "Call initializer instance with the dtype argument instead of passing it to the constructor\n"
     ]
    }
   ],
   "source": [
    "import neural_network\n",
    "from importlib import reload\n",
    "reload(neural_network)\n",
    "\n",
    "model = neural_network.create_model(X)"
   ]
  },
  {
   "cell_type": "code",
   "execution_count": 5,
   "id": "7b45f31c-e1d7-4c71-9262-2ec29646d77c",
   "metadata": {},
   "outputs": [
    {
     "name": "stdout",
     "output_type": "stream",
     "text": [
      "Train on 18966 samples, validate on 2108 samples\n",
      "Epoch 1/100\n",
      "18966/18966 [==============================] - 0s 18us/sample - loss: 0.3186 - val_loss: 0.1717\n",
      "Epoch 2/100\n",
      "18966/18966 [==============================] - 0s 5us/sample - loss: 0.1936 - val_loss: 0.1548\n",
      "Epoch 3/100\n",
      "18966/18966 [==============================] - 0s 5us/sample - loss: 0.1619 - val_loss: 0.1256\n",
      "Epoch 4/100\n",
      "18966/18966 [==============================] - 0s 6us/sample - loss: 0.1413 - val_loss: 0.1259\n",
      "Epoch 5/100\n",
      "18966/18966 [==============================] - 0s 7us/sample - loss: 0.1372 - val_loss: 0.1213\n",
      "Epoch 6/100\n",
      "18966/18966 [==============================] - 0s 7us/sample - loss: 0.1351 - val_loss: 0.1234\n",
      "Epoch 7/100\n",
      "18966/18966 [==============================] - 0s 6us/sample - loss: 0.1334 - val_loss: 0.1224\n",
      "Epoch 8/100\n",
      "18966/18966 [==============================] - 0s 6us/sample - loss: 0.1318 - val_loss: 0.1219\n",
      "Epoch 9/100\n",
      "18966/18966 [==============================] - 0s 5us/sample - loss: 0.1316 - val_loss: 0.1221\n",
      "Epoch 10/100\n",
      "18966/18966 [==============================] - 0s 5us/sample - loss: 0.1314 - val_loss: 0.1217\n",
      "Epoch 11/100\n",
      "18966/18966 [==============================] - 0s 6us/sample - loss: 0.1302 - val_loss: 0.1267\n",
      "Epoch 12/100\n",
      "18966/18966 [==============================] - 0s 6us/sample - loss: 0.1302 - val_loss: 0.1207\n",
      "Epoch 13/100\n",
      "18966/18966 [==============================] - 0s 5us/sample - loss: 0.1286 - val_loss: 0.1198\n",
      "Epoch 14/100\n",
      "18966/18966 [==============================] - 0s 5us/sample - loss: 0.1282 - val_loss: 0.1192\n",
      "Epoch 15/100\n",
      "18966/18966 [==============================] - 0s 5us/sample - loss: 0.1280 - val_loss: 0.1192\n",
      "Epoch 16/100\n",
      "18966/18966 [==============================] - 0s 9us/sample - loss: 0.1273 - val_loss: 0.1261\n",
      "Epoch 17/100\n",
      "18966/18966 [==============================] - 0s 7us/sample - loss: 0.1278 - val_loss: 0.1182\n",
      "Epoch 18/100\n",
      "18966/18966 [==============================] - 0s 7us/sample - loss: 0.1266 - val_loss: 0.1179\n",
      "Epoch 19/100\n",
      "18966/18966 [==============================] - 0s 8us/sample - loss: 0.1255 - val_loss: 0.1178\n",
      "Epoch 20/100\n",
      "18966/18966 [==============================] - 0s 6us/sample - loss: 0.1266 - val_loss: 0.1176\n",
      "Epoch 21/100\n",
      "18966/18966 [==============================] - 0s 5us/sample - loss: 0.1260 - val_loss: 0.1293\n",
      "Epoch 22/100\n",
      "18966/18966 [==============================] - 0s 6us/sample - loss: 0.1297 - val_loss: 0.1168\n",
      "Epoch 23/100\n",
      "18966/18966 [==============================] - 0s 7us/sample - loss: 0.1263 - val_loss: 0.1166\n",
      "Epoch 24/100\n",
      "18966/18966 [==============================] - 0s 6us/sample - loss: 0.1255 - val_loss: 0.1207\n",
      "Epoch 25/100\n",
      "18966/18966 [==============================] - 0s 6us/sample - loss: 0.1248 - val_loss: 0.1175\n",
      "Epoch 26/100\n",
      "18966/18966 [==============================] - 0s 5us/sample - loss: 0.1242 - val_loss: 0.1161\n",
      "Epoch 27/100\n",
      "18966/18966 [==============================] - 0s 5us/sample - loss: 0.1241 - val_loss: 0.1177\n",
      "Epoch 28/100\n",
      "18966/18966 [==============================] - 0s 5us/sample - loss: 0.1215 - val_loss: 0.1159\n",
      "Epoch 29/100\n",
      "18966/18966 [==============================] - 0s 5us/sample - loss: 0.1214 - val_loss: 0.1171\n",
      "Epoch 30/100\n",
      "18966/18966 [==============================] - 0s 6us/sample - loss: 0.1216 - val_loss: 0.1153\n",
      "Epoch 31/100\n",
      "18966/18966 [==============================] - 0s 7us/sample - loss: 0.1207 - val_loss: 0.1152\n",
      "Epoch 32/100\n",
      "18966/18966 [==============================] - 0s 7us/sample - loss: 0.1212 - val_loss: 0.1219\n",
      "Epoch 33/100\n",
      "18966/18966 [==============================] - 0s 5us/sample - loss: 0.1214 - val_loss: 0.1146\n",
      "Epoch 34/100\n",
      "18966/18966 [==============================] - 0s 6us/sample - loss: 0.1206 - val_loss: 0.1158\n",
      "Epoch 35/100\n",
      "18966/18966 [==============================] - 0s 5us/sample - loss: 0.1197 - val_loss: 0.1182\n",
      "Epoch 36/100\n",
      "18966/18966 [==============================] - 0s 6us/sample - loss: 0.1196 - val_loss: 0.1150\n",
      "Epoch 37/100\n",
      "18966/18966 [==============================] - 0s 5us/sample - loss: 0.1192 - val_loss: 0.1186\n",
      "Epoch 38/100\n",
      "18966/18966 [==============================] - 0s 5us/sample - loss: 0.1190 - val_loss: 0.1180\n",
      "Epoch 39/100\n",
      "18966/18966 [==============================] - 0s 6us/sample - loss: 0.1193 - val_loss: 0.1170\n",
      "Epoch 40/100\n",
      "18966/18966 [==============================] - 0s 5us/sample - loss: 0.1187 - val_loss: 0.1148\n",
      "Epoch 41/100\n",
      "18966/18966 [==============================] - 0s 5us/sample - loss: 0.1182 - val_loss: 0.1151\n",
      "Epoch 42/100\n",
      "18966/18966 [==============================] - 0s 6us/sample - loss: 0.1184 - val_loss: 0.1155\n",
      "Epoch 43/100\n",
      "18966/18966 [==============================] - 0s 6us/sample - loss: 0.1189 - val_loss: 0.1132\n",
      "Epoch 44/100\n",
      "18966/18966 [==============================] - 0s 6us/sample - loss: 0.1192 - val_loss: 0.1129\n",
      "Epoch 45/100\n",
      "18966/18966 [==============================] - 0s 6us/sample - loss: 0.1211 - val_loss: 0.1136\n",
      "Epoch 46/100\n",
      "18966/18966 [==============================] - 0s 5us/sample - loss: 0.1195 - val_loss: 0.1201\n",
      "Epoch 47/100\n",
      "18966/18966 [==============================] - 0s 5us/sample - loss: 0.1186 - val_loss: 0.1129\n",
      "Epoch 48/100\n",
      "18966/18966 [==============================] - 0s 7us/sample - loss: 0.1183 - val_loss: 0.1130\n",
      "Epoch 49/100\n",
      "18966/18966 [==============================] - 0s 5us/sample - loss: 0.1176 - val_loss: 0.1186\n",
      "Epoch 50/100\n",
      "18966/18966 [==============================] - 0s 5us/sample - loss: 0.1174 - val_loss: 0.1127\n",
      "Epoch 51/100\n",
      "18966/18966 [==============================] - 0s 6us/sample - loss: 0.1185 - val_loss: 0.1168\n",
      "Epoch 52/100\n",
      "18966/18966 [==============================] - 0s 5us/sample - loss: 0.1177 - val_loss: 0.1197\n",
      "Epoch 53/100\n",
      "18966/18966 [==============================] - 0s 6us/sample - loss: 0.1178 - val_loss: 0.1133\n",
      "Epoch 54/100\n",
      "18966/18966 [==============================] - 0s 6us/sample - loss: 0.1179 - val_loss: 0.1161\n",
      "Epoch 55/100\n",
      "18966/18966 [==============================] - 0s 6us/sample - loss: 0.1177 - val_loss: 0.1176\n",
      "Epoch 56/100\n",
      "18966/18966 [==============================] - 0s 7us/sample - loss: 0.1184 - val_loss: 0.1146\n",
      "Epoch 57/100\n",
      "18966/18966 [==============================] - 0s 6us/sample - loss: 0.1178 - val_loss: 0.1128\n",
      "Epoch 58/100\n",
      "18966/18966 [==============================] - 0s 5us/sample - loss: 0.1173 - val_loss: 0.1162\n",
      "Epoch 59/100\n",
      "18966/18966 [==============================] - 0s 6us/sample - loss: 0.1184 - val_loss: 0.1126\n",
      "Epoch 60/100\n",
      "18966/18966 [==============================] - 0s 5us/sample - loss: 0.1177 - val_loss: 0.1134\n",
      "Epoch 61/100\n",
      "18966/18966 [==============================] - 0s 5us/sample - loss: 0.1172 - val_loss: 0.1197\n",
      "Epoch 62/100\n",
      "18966/18966 [==============================] - 0s 7us/sample - loss: 0.1197 - val_loss: 0.1143\n",
      "Epoch 63/100\n",
      "18966/18966 [==============================] - 0s 9us/sample - loss: 0.1190 - val_loss: 0.1199\n",
      "Epoch 64/100\n",
      "18966/18966 [==============================] - 0s 7us/sample - loss: 0.1175 - val_loss: 0.1126\n",
      "Epoch 65/100\n",
      "18966/18966 [==============================] - 0s 5us/sample - loss: 0.1169 - val_loss: 0.1126\n",
      "Epoch 66/100\n",
      "18966/18966 [==============================] - 0s 6us/sample - loss: 0.1172 - val_loss: 0.1186\n",
      "Epoch 67/100\n",
      "18966/18966 [==============================] - 0s 5us/sample - loss: 0.1168 - val_loss: 0.1158\n",
      "Epoch 68/100\n",
      "18966/18966 [==============================] - 0s 5us/sample - loss: 0.1168 - val_loss: 0.1143\n",
      "Epoch 69/100\n",
      "18966/18966 [==============================] - 0s 6us/sample - loss: 0.1166 - val_loss: 0.1186\n",
      "Epoch 70/100\n",
      "18966/18966 [==============================] - 0s 5us/sample - loss: 0.1187 - val_loss: 0.1125\n",
      "Epoch 71/100\n",
      "18966/18966 [==============================] - 0s 7us/sample - loss: 0.1180 - val_loss: 0.1141\n",
      "Epoch 72/100\n",
      "18966/18966 [==============================] - 0s 8us/sample - loss: 0.1174 - val_loss: 0.1175\n",
      "Epoch 73/100\n",
      "18966/18966 [==============================] - 0s 6us/sample - loss: 0.1167 - val_loss: 0.1121\n",
      "Epoch 74/100\n",
      "18966/18966 [==============================] - 0s 5us/sample - loss: 0.1172 - val_loss: 0.1161\n",
      "Epoch 75/100\n",
      "18966/18966 [==============================] - 0s 5us/sample - loss: 0.1168 - val_loss: 0.1144\n",
      "Epoch 76/100\n",
      "18966/18966 [==============================] - 0s 5us/sample - loss: 0.1169 - val_loss: 0.1131\n",
      "Epoch 77/100\n",
      "18966/18966 [==============================] - 0s 6us/sample - loss: 0.1171 - val_loss: 0.1163\n",
      "Epoch 78/100\n",
      "18966/18966 [==============================] - 0s 7us/sample - loss: 0.1163 - val_loss: 0.1122\n",
      "Epoch 79/100\n",
      "18966/18966 [==============================] - 0s 8us/sample - loss: 0.1173 - val_loss: 0.1219\n",
      "Epoch 80/100\n",
      "18966/18966 [==============================] - 0s 6us/sample - loss: 0.1170 - val_loss: 0.1136\n",
      "Epoch 81/100\n",
      "18966/18966 [==============================] - 0s 6us/sample - loss: 0.1159 - val_loss: 0.1159\n",
      "Epoch 82/100\n",
      "18966/18966 [==============================] - 0s 5us/sample - loss: 0.1160 - val_loss: 0.1162\n",
      "Epoch 83/100\n",
      "18966/18966 [==============================] - 0s 5us/sample - loss: 0.1166 - val_loss: 0.1127\n",
      "Epoch 84/100\n",
      "18966/18966 [==============================] - 0s 6us/sample - loss: 0.1172 - val_loss: 0.1178\n",
      "Epoch 85/100\n",
      "18966/18966 [==============================] - 0s 5us/sample - loss: 0.1169 - val_loss: 0.1136\n",
      "Epoch 86/100\n",
      "18966/18966 [==============================] - 0s 6us/sample - loss: 0.1156 - val_loss: 0.1162\n",
      "Epoch 87/100\n",
      "18966/18966 [==============================] - 0s 6us/sample - loss: 0.1161 - val_loss: 0.1131\n",
      "Epoch 88/100\n",
      "18966/18966 [==============================] - 0s 6us/sample - loss: 0.1166 - val_loss: 0.1179\n",
      "Epoch 89/100\n",
      "18966/18966 [==============================] - 0s 5us/sample - loss: 0.1165 - val_loss: 0.1169\n",
      "Epoch 90/100\n",
      "18966/18966 [==============================] - 0s 6us/sample - loss: 0.1169 - val_loss: 0.1122\n",
      "Epoch 91/100\n",
      "18966/18966 [==============================] - 0s 6us/sample - loss: 0.1161 - val_loss: 0.1144\n",
      "Epoch 92/100\n",
      "18966/18966 [==============================] - 0s 5us/sample - loss: 0.1157 - val_loss: 0.1189\n",
      "Epoch 93/100\n",
      "18966/18966 [==============================] - 0s 5us/sample - loss: 0.1166 - val_loss: 0.1134\n",
      "Epoch 94/100\n",
      "18966/18966 [==============================] - 0s 7us/sample - loss: 0.1159 - val_loss: 0.1159\n",
      "Epoch 95/100\n",
      "18966/18966 [==============================] - 0s 8us/sample - loss: 0.1155 - val_loss: 0.1139\n",
      "Epoch 96/100\n",
      "18966/18966 [==============================] - 0s 6us/sample - loss: 0.1153 - val_loss: 0.1147\n",
      "Epoch 97/100\n",
      "18966/18966 [==============================] - 0s 6us/sample - loss: 0.1150 - val_loss: 0.1157\n",
      "Epoch 98/100\n",
      "18966/18966 [==============================] - 0s 5us/sample - loss: 0.1154 - val_loss: 0.1136\n",
      "Epoch 99/100\n",
      "18966/18966 [==============================] - 0s 6us/sample - loss: 0.1156 - val_loss: 0.1142\n",
      "Epoch 100/100\n",
      "18966/18966 [==============================] - 0s 7us/sample - loss: 0.1151 - val_loss: 0.1153\n"
     ]
    }
   ],
   "source": [
    "opt = keras.optimizers.Adam(learning_rate=0.0025)\n",
    "model.compile(optimizer=opt, loss=\"mae\")\n",
    "history = model.fit(X, y, validation_split=0.1, epochs=100, batch_size=2000)"
   ]
  },
  {
   "cell_type": "code",
   "execution_count": 6,
   "id": "fcb0d4a9-a05d-41dc-8649-c4d087320d19",
   "metadata": {},
   "outputs": [],
   "source": [
    "import matplotlib.pyplot as plt"
   ]
  },
  {
   "cell_type": "code",
   "execution_count": 7,
   "id": "1b521aca-f2e0-460e-bb95-1ed2c3f1763f",
   "metadata": {},
   "outputs": [
    {
     "data": {
      "text/plain": [
       "<matplotlib.legend.Legend at 0x7f8903517240>"
      ]
     },
     "execution_count": 7,
     "metadata": {},
     "output_type": "execute_result"
    },
    {
     "data": {
      "image/png": "[encoded data removed]",
      "text/plain": [
       "<Figure size 432x288 with 1 Axes>"
      ]
     },
     "metadata": {
      "needs_background": "light"
     },
     "output_type": "display_data"
    }
   ],
   "source": [
    "plt.plot(history.history[\"loss\"], label=\"train loss\")\n",
    "plt.plot(history.history[\"val_loss\"], label=\"val loss\")\n",
    "plt.legend()"
   ]
  },
  {
   "cell_type": "markdown",
   "id": "07ed28c2-d565-435a-91af-b3582876085d",
   "metadata": {},
   "source": [
    "## **Saving the model**"
   ]
  },
  {
   "cell_type": "code",
   "execution_count": 8,
   "id": "2b5a0dc0-ebf6-4345-b383-3d99a21fa335",
   "metadata": {},
   "outputs": [],
   "source": [
    "model.save_weights(\"../03_models/\"+MODEL_NAME+\"/\")"
   ]
  }
 ],
 "metadata": {
  "kernelspec": {
   "display_name": "xai",
   "language": "python",
   "name": "xai"
  },
  "language_info": {
   "codemirror_mode": {
    "name": "ipython",
    "version": 3
   },
   "file_extension": ".py",
   "mimetype": "text/x-python",
   "name": "python",
   "nbconvert_exporter": "python",
   "pygments_lexer": "ipython3",
   "version": "3.6.13"
  }
 },
 "nbformat": 4,
 "nbformat_minor": 5
}
