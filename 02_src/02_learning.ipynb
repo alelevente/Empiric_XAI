{
 "cells": [
  {
   "cell_type": "markdown",
   "id": "0050f2ee-edc3-4298-a23b-8ac4848da1d6",
   "metadata": {},
   "source": [
    "# **Learning**"
   ]
  },
  {
   "cell_type": "code",
   "execution_count": 1,
   "id": "d97e8626-f23e-43d5-8be2-32aced26f3cb",
   "metadata": {},
   "outputs": [],
   "source": [
    "TRAINING_SET_FEATURES = \"../01_data/train/under_educated_features.csv\"\n",
    "TRAINING_SET_LABELS = \"../01_data/train/under_educated_labels.csv\"\n",
    "\n",
    "MODEL_NAME = \"under_educated\""
   ]
  },
  {
   "cell_type": "code",
   "execution_count": 2,
   "id": "482c4d0f-c20f-4a31-a3a1-ca9835fe3040",
   "metadata": {},
   "outputs": [
    {
     "name": "stderr",
     "output_type": "stream",
     "text": [
      "/home/madbiker/miniconda3/envs/xai/lib/python3.6/site-packages/tensorflow/python/framework/dtypes.py:516: FutureWarning: Passing (type, 1) or '1type' as a synonym of type is deprecated; in a future version of numpy, it will be understood as (type, (1,)) / '(1,)type'.\n",
      "  _np_qint8 = np.dtype([(\"qint8\", np.int8, 1)])\n",
      "/home/madbiker/miniconda3/envs/xai/lib/python3.6/site-packages/tensorflow/python/framework/dtypes.py:517: FutureWarning: Passing (type, 1) or '1type' as a synonym of type is deprecated; in a future version of numpy, it will be understood as (type, (1,)) / '(1,)type'.\n",
      "  _np_quint8 = np.dtype([(\"quint8\", np.uint8, 1)])\n",
      "/home/madbiker/miniconda3/envs/xai/lib/python3.6/site-packages/tensorflow/python/framework/dtypes.py:518: FutureWarning: Passing (type, 1) or '1type' as a synonym of type is deprecated; in a future version of numpy, it will be understood as (type, (1,)) / '(1,)type'.\n",
      "  _np_qint16 = np.dtype([(\"qint16\", np.int16, 1)])\n",
      "/home/madbiker/miniconda3/envs/xai/lib/python3.6/site-packages/tensorflow/python/framework/dtypes.py:519: FutureWarning: Passing (type, 1) or '1type' as a synonym of type is deprecated; in a future version of numpy, it will be understood as (type, (1,)) / '(1,)type'.\n",
      "  _np_quint16 = np.dtype([(\"quint16\", np.uint16, 1)])\n",
      "/home/madbiker/miniconda3/envs/xai/lib/python3.6/site-packages/tensorflow/python/framework/dtypes.py:520: FutureWarning: Passing (type, 1) or '1type' as a synonym of type is deprecated; in a future version of numpy, it will be understood as (type, (1,)) / '(1,)type'.\n",
      "  _np_qint32 = np.dtype([(\"qint32\", np.int32, 1)])\n",
      "/home/madbiker/miniconda3/envs/xai/lib/python3.6/site-packages/tensorflow/python/framework/dtypes.py:525: FutureWarning: Passing (type, 1) or '1type' as a synonym of type is deprecated; in a future version of numpy, it will be understood as (type, (1,)) / '(1,)type'.\n",
      "  np_resource = np.dtype([(\"resource\", np.ubyte, 1)])\n",
      "/home/madbiker/miniconda3/envs/xai/lib/python3.6/site-packages/tensorboard/compat/tensorflow_stub/dtypes.py:541: FutureWarning: Passing (type, 1) or '1type' as a synonym of type is deprecated; in a future version of numpy, it will be understood as (type, (1,)) / '(1,)type'.\n",
      "  _np_qint8 = np.dtype([(\"qint8\", np.int8, 1)])\n",
      "/home/madbiker/miniconda3/envs/xai/lib/python3.6/site-packages/tensorboard/compat/tensorflow_stub/dtypes.py:542: FutureWarning: Passing (type, 1) or '1type' as a synonym of type is deprecated; in a future version of numpy, it will be understood as (type, (1,)) / '(1,)type'.\n",
      "  _np_quint8 = np.dtype([(\"quint8\", np.uint8, 1)])\n",
      "/home/madbiker/miniconda3/envs/xai/lib/python3.6/site-packages/tensorboard/compat/tensorflow_stub/dtypes.py:543: FutureWarning: Passing (type, 1) or '1type' as a synonym of type is deprecated; in a future version of numpy, it will be understood as (type, (1,)) / '(1,)type'.\n",
      "  _np_qint16 = np.dtype([(\"qint16\", np.int16, 1)])\n",
      "/home/madbiker/miniconda3/envs/xai/lib/python3.6/site-packages/tensorboard/compat/tensorflow_stub/dtypes.py:544: FutureWarning: Passing (type, 1) or '1type' as a synonym of type is deprecated; in a future version of numpy, it will be understood as (type, (1,)) / '(1,)type'.\n",
      "  _np_quint16 = np.dtype([(\"quint16\", np.uint16, 1)])\n",
      "/home/madbiker/miniconda3/envs/xai/lib/python3.6/site-packages/tensorboard/compat/tensorflow_stub/dtypes.py:545: FutureWarning: Passing (type, 1) or '1type' as a synonym of type is deprecated; in a future version of numpy, it will be understood as (type, (1,)) / '(1,)type'.\n",
      "  _np_qint32 = np.dtype([(\"qint32\", np.int32, 1)])\n",
      "/home/madbiker/miniconda3/envs/xai/lib/python3.6/site-packages/tensorboard/compat/tensorflow_stub/dtypes.py:550: FutureWarning: Passing (type, 1) or '1type' as a synonym of type is deprecated; in a future version of numpy, it will be understood as (type, (1,)) / '(1,)type'.\n",
      "  np_resource = np.dtype([(\"resource\", np.ubyte, 1)])\n"
     ]
    }
   ],
   "source": [
    "import pandas as pd\n",
    "import numpy as np\n",
    "\n",
    "from tensorflow import keras\n",
    "import tensorflow as tf"
   ]
  },
  {
   "cell_type": "markdown",
   "id": "1903a676-3d9a-41aa-9389-7d8cbdaabe44",
   "metadata": {},
   "source": [
    "## **Loading training dataset**"
   ]
  },
  {
   "cell_type": "code",
   "execution_count": 3,
   "id": "a84c4824-3bdf-4201-80ec-4eb6d781def7",
   "metadata": {},
   "outputs": [],
   "source": [
    "X = np.loadtxt(TRAINING_SET_FEATURES, delimiter=\",\")\n",
    "X = np.vstack([X, np.loadtxt(\"../01_data/train/college_educated_features.csv\", delimiter=\",\")])\n",
    "y = np.loadtxt(TRAINING_SET_LABELS, delimiter=\",\")\n",
    "y_p = np.loadtxt(\"../01_data/train/college_educated_labels.csv\", delimiter=\",\")\n",
    "y = np.concatenate([y, y_p])"
   ]
  },
  {
   "cell_type": "markdown",
   "id": "3863e64b-97cf-4a15-83e0-d34e5014d4bd",
   "metadata": {},
   "source": [
    "## **Training a neural network**"
   ]
  },
  {
   "cell_type": "code",
   "execution_count": 4,
   "id": "a317a0f2-21b9-4108-913f-e55ee31d0784",
   "metadata": {},
   "outputs": [
    {
     "name": "stdout",
     "output_type": "stream",
     "text": [
      "WARNING:tensorflow:From /home/madbiker/miniconda3/envs/xai/lib/python3.6/site-packages/tensorflow/python/ops/init_ops.py:1251: calling VarianceScaling.__init__ (from tensorflow.python.ops.init_ops) with dtype is deprecated and will be removed in a future version.\n",
      "Instructions for updating:\n",
      "Call initializer instance with the dtype argument instead of passing it to the constructor\n"
     ]
    }
   ],
   "source": [
    "import neural_network\n",
    "from importlib import reload\n",
    "reload(neural_network)\n",
    "\n",
    "model = neural_network.create_model(X)"
   ]
  },
  {
   "cell_type": "code",
   "execution_count": 5,
   "id": "7b45f31c-e1d7-4c71-9262-2ec29646d77c",
   "metadata": {},
   "outputs": [
    {
     "name": "stdout",
     "output_type": "stream",
     "text": [
      "Train on 28212 samples, validate on 3135 samples\n",
      "Epoch 1/100\n",
      "28212/28212 [==============================] - 2s 62us/sample - loss: 1.0419 - val_loss: 1.0548\n",
      "Epoch 2/100\n",
      "28212/28212 [==============================] - 1s 21us/sample - loss: 0.9499 - val_loss: 0.8940\n",
      "Epoch 3/100\n",
      "28212/28212 [==============================] - 1s 20us/sample - loss: 0.8515 - val_loss: 0.8371\n",
      "Epoch 4/100\n",
      "28212/28212 [==============================] - 1s 20us/sample - loss: 0.8186 - val_loss: 0.8186\n",
      "Epoch 5/100\n",
      "28212/28212 [==============================] - 1s 19us/sample - loss: 0.8039 - val_loss: 0.7972\n",
      "Epoch 6/100\n",
      "28212/28212 [==============================] - 1s 19us/sample - loss: 0.7971 - val_loss: 0.8043\n",
      "Epoch 7/100\n",
      "28212/28212 [==============================] - 1s 19us/sample - loss: 0.7906 - val_loss: 0.7887\n",
      "Epoch 8/100\n",
      "28212/28212 [==============================] - 1s 19us/sample - loss: 0.7875 - val_loss: 0.7838\n",
      "Epoch 9/100\n",
      "28212/28212 [==============================] - 1s 19us/sample - loss: 0.7850 - val_loss: 0.7923\n",
      "Epoch 10/100\n",
      "28212/28212 [==============================] - 1s 20us/sample - loss: 0.7824 - val_loss: 0.7842\n",
      "Epoch 11/100\n",
      "28212/28212 [==============================] - 1s 29us/sample - loss: 0.7820 - val_loss: 0.7768\n",
      "Epoch 12/100\n",
      "28212/28212 [==============================] - 1s 34us/sample - loss: 0.7769 - val_loss: 0.7810\n",
      "Epoch 13/100\n",
      "28212/28212 [==============================] - 1s 32us/sample - loss: 0.7791 - val_loss: 0.7850\n",
      "Epoch 14/100\n",
      "28212/28212 [==============================] - 1s 36us/sample - loss: 0.7772 - val_loss: 0.7777\n",
      "Epoch 15/100\n",
      "28212/28212 [==============================] - 1s 38us/sample - loss: 0.7721 - val_loss: 0.7799\n",
      "Epoch 16/100\n",
      "28212/28212 [==============================] - 1s 30us/sample - loss: 0.7685 - val_loss: 0.7628\n",
      "Epoch 17/100\n",
      "28212/28212 [==============================] - 1s 20us/sample - loss: 0.7652 - val_loss: 0.7659\n",
      "Epoch 18/100\n",
      "28212/28212 [==============================] - 1s 22us/sample - loss: 0.7675 - val_loss: 0.7732\n",
      "Epoch 19/100\n",
      "28212/28212 [==============================] - 1s 23us/sample - loss: 0.7614 - val_loss: 0.7663\n",
      "Epoch 20/100\n",
      "28212/28212 [==============================] - 1s 25us/sample - loss: 0.7612 - val_loss: 0.7655\n",
      "Epoch 21/100\n",
      "28212/28212 [==============================] - 1s 20us/sample - loss: 0.7629 - val_loss: 0.7617\n",
      "Epoch 22/100\n",
      "28212/28212 [==============================] - 1s 20us/sample - loss: 0.7612 - val_loss: 0.7604\n",
      "Epoch 23/100\n",
      "28212/28212 [==============================] - 1s 23us/sample - loss: 0.7615 - val_loss: 0.7679\n",
      "Epoch 24/100\n",
      "28212/28212 [==============================] - 1s 32us/sample - loss: 0.7562 - val_loss: 0.7675\n",
      "Epoch 25/100\n",
      "28212/28212 [==============================] - 1s 38us/sample - loss: 0.7585 - val_loss: 0.7511\n",
      "Epoch 26/100\n",
      "28212/28212 [==============================] - 1s 36us/sample - loss: 0.7576 - val_loss: 0.7627\n",
      "Epoch 27/100\n",
      "28212/28212 [==============================] - 1s 33us/sample - loss: 0.7580 - val_loss: 0.7753\n",
      "Epoch 28/100\n",
      "28212/28212 [==============================] - 1s 38us/sample - loss: 0.7547 - val_loss: 0.7656\n",
      "Epoch 29/100\n",
      "28212/28212 [==============================] - 1s 27us/sample - loss: 0.7534 - val_loss: 0.7520\n",
      "Epoch 30/100\n",
      "28212/28212 [==============================] - 1s 20us/sample - loss: 0.7488 - val_loss: 0.7690\n",
      "Epoch 31/100\n",
      "28212/28212 [==============================] - 1s 20us/sample - loss: 0.7510 - val_loss: 0.7631\n",
      "Epoch 32/100\n",
      "28212/28212 [==============================] - 1s 19us/sample - loss: 0.7505 - val_loss: 0.7470\n",
      "Epoch 33/100\n",
      "28212/28212 [==============================] - 1s 18us/sample - loss: 0.7516 - val_loss: 0.7562\n",
      "Epoch 34/100\n",
      "28212/28212 [==============================] - 1s 20us/sample - loss: 0.7514 - val_loss: 0.7641\n",
      "Epoch 35/100\n",
      "28212/28212 [==============================] - 1s 19us/sample - loss: 0.7462 - val_loss: 0.7588\n",
      "Epoch 36/100\n",
      "28212/28212 [==============================] - 1s 18us/sample - loss: 0.7469 - val_loss: 0.7561\n",
      "Epoch 37/100\n",
      "28212/28212 [==============================] - 1s 20us/sample - loss: 0.7492 - val_loss: 0.7498\n",
      "Epoch 38/100\n",
      "28212/28212 [==============================] - 1s 25us/sample - loss: 0.7484 - val_loss: 0.7635\n",
      "Epoch 39/100\n",
      "28212/28212 [==============================] - 1s 37us/sample - loss: 0.7475 - val_loss: 0.7630\n",
      "Epoch 40/100\n",
      "28212/28212 [==============================] - 1s 35us/sample - loss: 0.7510 - val_loss: 0.7629\n",
      "Epoch 41/100\n",
      "28212/28212 [==============================] - 1s 36us/sample - loss: 0.7475 - val_loss: 0.7534\n",
      "Epoch 42/100\n",
      "28212/28212 [==============================] - 1s 30us/sample - loss: 0.7455 - val_loss: 0.7616\n",
      "Epoch 43/100\n",
      "28212/28212 [==============================] - 1s 33us/sample - loss: 0.7422 - val_loss: 0.7459\n",
      "Epoch 44/100\n",
      "28212/28212 [==============================] - 1s 23us/sample - loss: 0.7491 - val_loss: 0.7512\n",
      "Epoch 45/100\n",
      "28212/28212 [==============================] - 0s 17us/sample - loss: 0.7449 - val_loss: 0.7526\n",
      "Epoch 46/100\n",
      "28212/28212 [==============================] - 1s 19us/sample - loss: 0.7460 - val_loss: 0.7582\n",
      "Epoch 47/100\n",
      "28212/28212 [==============================] - 1s 20us/sample - loss: 0.7469 - val_loss: 0.7463\n",
      "Epoch 48/100\n",
      "28212/28212 [==============================] - 1s 19us/sample - loss: 0.7428 - val_loss: 0.7400\n",
      "Epoch 49/100\n",
      "28212/28212 [==============================] - 1s 18us/sample - loss: 0.7444 - val_loss: 0.7493\n",
      "Epoch 50/100\n",
      "28212/28212 [==============================] - 1s 19us/sample - loss: 0.7410 - val_loss: 0.7562\n",
      "Epoch 51/100\n",
      "28212/28212 [==============================] - 1s 18us/sample - loss: 0.7413 - val_loss: 0.7661\n",
      "Epoch 52/100\n",
      "28212/28212 [==============================] - 1s 21us/sample - loss: 0.7427 - val_loss: 0.7511\n",
      "Epoch 53/100\n",
      "28212/28212 [==============================] - 1s 32us/sample - loss: 0.7411 - val_loss: 0.7483\n",
      "Epoch 54/100\n",
      "28212/28212 [==============================] - 1s 36us/sample - loss: 0.7388 - val_loss: 0.7617\n",
      "Epoch 55/100\n",
      "28212/28212 [==============================] - 1s 38us/sample - loss: 0.7384 - val_loss: 0.7517\n",
      "Epoch 56/100\n",
      "28212/28212 [==============================] - 1s 35us/sample - loss: 0.7415 - val_loss: 0.7547\n",
      "Epoch 57/100\n",
      "28212/28212 [==============================] - 1s 35us/sample - loss: 0.7402 - val_loss: 0.7537\n",
      "Epoch 58/100\n",
      "28212/28212 [==============================] - 1s 19us/sample - loss: 0.7397 - val_loss: 0.7475\n",
      "Epoch 59/100\n",
      "28212/28212 [==============================] - 1s 19us/sample - loss: 0.7399 - val_loss: 0.7431\n",
      "Epoch 60/100\n",
      "28212/28212 [==============================] - 1s 20us/sample - loss: 0.7394 - val_loss: 0.7578\n",
      "Epoch 61/100\n",
      "28212/28212 [==============================] - 1s 19us/sample - loss: 0.7349 - val_loss: 0.7454\n",
      "Epoch 62/100\n",
      "28212/28212 [==============================] - 1s 20us/sample - loss: 0.7373 - val_loss: 0.7427\n",
      "Epoch 63/100\n",
      "28212/28212 [==============================] - 1s 19us/sample - loss: 0.7342 - val_loss: 0.7372\n",
      "Epoch 64/100\n",
      "28212/28212 [==============================] - 1s 19us/sample - loss: 0.7333 - val_loss: 0.7407\n",
      "Epoch 65/100\n",
      "28212/28212 [==============================] - 1s 19us/sample - loss: 0.7378 - val_loss: 0.7482\n",
      "Epoch 66/100\n",
      "28212/28212 [==============================] - 1s 20us/sample - loss: 0.7370 - val_loss: 0.7489\n",
      "Epoch 67/100\n",
      "28212/28212 [==============================] - 1s 26us/sample - loss: 0.7357 - val_loss: 0.7468\n",
      "Epoch 68/100\n",
      "28212/28212 [==============================] - 1s 35us/sample - loss: 0.7342 - val_loss: 0.7539\n",
      "Epoch 69/100\n",
      "28212/28212 [==============================] - 1s 34us/sample - loss: 0.7385 - val_loss: 0.7491\n",
      "Epoch 70/100\n",
      "28212/28212 [==============================] - 1s 34us/sample - loss: 0.7355 - val_loss: 0.7405\n",
      "Epoch 71/100\n",
      "28212/28212 [==============================] - 1s 38us/sample - loss: 0.7363 - val_loss: 0.7508\n",
      "Epoch 72/100\n",
      "28212/28212 [==============================] - 1s 30us/sample - loss: 0.7325 - val_loss: 0.7483\n",
      "Epoch 73/100\n",
      "28212/28212 [==============================] - 1s 21us/sample - loss: 0.7313 - val_loss: 0.7436\n",
      "Epoch 74/100\n",
      "28212/28212 [==============================] - 1s 20us/sample - loss: 0.7374 - val_loss: 0.7419\n",
      "Epoch 75/100\n",
      "28212/28212 [==============================] - 1s 20us/sample - loss: 0.7331 - val_loss: 0.7430\n",
      "Epoch 76/100\n",
      "28212/28212 [==============================] - 1s 22us/sample - loss: 0.7319 - val_loss: 0.7422\n",
      "Epoch 77/100\n",
      "28212/28212 [==============================] - 1s 23us/sample - loss: 0.7294 - val_loss: 0.7423\n",
      "Epoch 78/100\n",
      "28212/28212 [==============================] - 1s 20us/sample - loss: 0.7295 - val_loss: 0.7440\n",
      "Epoch 79/100\n",
      "28212/28212 [==============================] - 1s 20us/sample - loss: 0.7312 - val_loss: 0.7427\n",
      "Epoch 80/100\n",
      "28212/28212 [==============================] - 1s 19us/sample - loss: 0.7309 - val_loss: 0.7523\n",
      "Epoch 81/100\n",
      "28212/28212 [==============================] - 1s 32us/sample - loss: 0.7306 - val_loss: 0.7457\n",
      "Epoch 82/100\n",
      "28212/28212 [==============================] - 1s 37us/sample - loss: 0.7345 - val_loss: 0.7359\n",
      "Epoch 83/100\n",
      "28212/28212 [==============================] - 1s 36us/sample - loss: 0.7283 - val_loss: 0.7483\n",
      "Epoch 84/100\n",
      "28212/28212 [==============================] - 1s 35us/sample - loss: 0.7313 - val_loss: 0.7398\n",
      "Epoch 85/100\n",
      "28212/28212 [==============================] - 1s 36us/sample - loss: 0.7308 - val_loss: 0.7502\n",
      "Epoch 86/100\n",
      "28212/28212 [==============================] - 1s 27us/sample - loss: 0.7303 - val_loss: 0.7444\n",
      "Epoch 87/100\n",
      "28212/28212 [==============================] - 1s 19us/sample - loss: 0.7273 - val_loss: 0.7514\n",
      "Epoch 88/100\n",
      "28212/28212 [==============================] - 1s 21us/sample - loss: 0.7313 - val_loss: 0.7511\n",
      "Epoch 89/100\n",
      "28212/28212 [==============================] - 1s 19us/sample - loss: 0.7292 - val_loss: 0.7384\n",
      "Epoch 90/100\n",
      "28212/28212 [==============================] - 1s 20us/sample - loss: 0.7305 - val_loss: 0.7414\n",
      "Epoch 91/100\n",
      "28212/28212 [==============================] - 1s 19us/sample - loss: 0.7270 - val_loss: 0.7377\n",
      "Epoch 92/100\n",
      "28212/28212 [==============================] - 1s 20us/sample - loss: 0.7304 - val_loss: 0.7410\n",
      "Epoch 93/100\n",
      "28212/28212 [==============================] - 1s 21us/sample - loss: 0.7271 - val_loss: 0.7376\n",
      "Epoch 94/100\n",
      "28212/28212 [==============================] - 1s 20us/sample - loss: 0.7306 - val_loss: 0.7464\n",
      "Epoch 95/100\n",
      "28212/28212 [==============================] - 1s 32us/sample - loss: 0.7274 - val_loss: 0.7520\n",
      "Epoch 96/100\n",
      "28212/28212 [==============================] - 1s 34us/sample - loss: 0.7274 - val_loss: 0.7492\n",
      "Epoch 97/100\n",
      "28212/28212 [==============================] - 1s 35us/sample - loss: 0.7257 - val_loss: 0.7521\n",
      "Epoch 98/100\n",
      "28212/28212 [==============================] - 1s 34us/sample - loss: 0.7271 - val_loss: 0.7465\n",
      "Epoch 99/100\n",
      "28212/28212 [==============================] - 1s 34us/sample - loss: 0.7235 - val_loss: 0.7452\n",
      "Epoch 100/100\n",
      "28212/28212 [==============================] - 1s 26us/sample - loss: 0.7274 - val_loss: 0.7401\n"
     ]
    }
   ],
   "source": [
    "opt = keras.optimizers.Adam(learning_rate=0.0025)\n",
    "model.compile(optimizer=opt, loss=\"categorical_crossentropy\")\n",
    "history = model.fit(X, y, validation_split=0.1, epochs=100, batch_size=2000)"
   ]
  },
  {
   "cell_type": "code",
   "execution_count": 6,
   "id": "fcb0d4a9-a05d-41dc-8649-c4d087320d19",
   "metadata": {},
   "outputs": [],
   "source": [
    "import matplotlib.pyplot as plt"
   ]
  },
  {
   "cell_type": "code",
   "execution_count": 7,
   "id": "1b521aca-f2e0-460e-bb95-1ed2c3f1763f",
   "metadata": {},
   "outputs": [
    {
     "data": {
      "text/plain": [
       "<matplotlib.legend.Legend at 0x7f6501d15160>"
      ]
     },
     "execution_count": 7,
     "metadata": {},
     "output_type": "execute_result"
    },
    {
     "data": {
      "image/png": "[encoded data removed]",
      "text/plain": [
       "<Figure size 432x288 with 1 Axes>"
      ]
     },
     "metadata": {
      "needs_background": "light"
     },
     "output_type": "display_data"
    }
   ],
   "source": [
    "plt.plot(history.history[\"loss\"], label=\"train loss\")\n",
    "plt.plot(history.history[\"val_loss\"], label=\"val loss\")\n",
    "plt.legend()"
   ]
  },
  {
   "cell_type": "markdown",
   "id": "07ed28c2-d565-435a-91af-b3582876085d",
   "metadata": {},
   "source": [
    "## **Saving the model**"
   ]
  },
  {
   "cell_type": "code",
   "execution_count": 8,
   "id": "2b5a0dc0-ebf6-4345-b383-3d99a21fa335",
   "metadata": {},
   "outputs": [],
   "source": [
    "model.save_weights(\"../03_models/\"+MODEL_NAME+\"/\")"
   ]
  }
 ],
 "metadata": {
  "kernelspec": {
   "display_name": "xai",
   "language": "python",
   "name": "xai"
  },
  "language_info": {
   "codemirror_mode": {
    "name": "ipython",
    "version": 3
   },
   "file_extension": ".py",
   "mimetype": "text/x-python",
   "name": "python",
   "nbconvert_exporter": "python",
   "pygments_lexer": "ipython3",
   "version": "3.6.13"
  }
 },
 "nbformat": 4,
 "nbformat_minor": 5
}
