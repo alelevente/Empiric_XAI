{
 "cells": [
  {
   "cell_type": "markdown",
   "id": "afc797eb-01c3-47a3-af95-e3e86ba5e623",
   "metadata": {},
   "source": [
    "# **Evaluating a model**"
   ]
  },
  {
   "cell_type": "code",
   "execution_count": 1,
   "id": "aec4e69a-3fbb-4e46-8723-f2f3ca985853",
   "metadata": {},
   "outputs": [],
   "source": [
    "TEST_SET_FEATURES = \"../01_data/test/under_educated_features.csv\"\n",
    "TEST_SET_LABELS = \"../01_data/test/under_educated_labels.csv\"\n",
    "\n",
    "MODEL_NAME = \"under_educated\""
   ]
  },
  {
   "cell_type": "code",
   "execution_count": 2,
   "id": "a695bdb8-f48a-48a0-b190-ab6f207fe3d1",
   "metadata": {},
   "outputs": [
    {
     "name": "stderr",
     "output_type": "stream",
     "text": [
      "/home/madbiker/miniconda3/envs/xai/lib/python3.6/site-packages/tensorflow/python/framework/dtypes.py:516: FutureWarning: Passing (type, 1) or '1type' as a synonym of type is deprecated; in a future version of numpy, it will be understood as (type, (1,)) / '(1,)type'.\n",
      "  _np_qint8 = np.dtype([(\"qint8\", np.int8, 1)])\n",
      "/home/madbiker/miniconda3/envs/xai/lib/python3.6/site-packages/tensorflow/python/framework/dtypes.py:517: FutureWarning: Passing (type, 1) or '1type' as a synonym of type is deprecated; in a future version of numpy, it will be understood as (type, (1,)) / '(1,)type'.\n",
      "  _np_quint8 = np.dtype([(\"quint8\", np.uint8, 1)])\n",
      "/home/madbiker/miniconda3/envs/xai/lib/python3.6/site-packages/tensorflow/python/framework/dtypes.py:518: FutureWarning: Passing (type, 1) or '1type' as a synonym of type is deprecated; in a future version of numpy, it will be understood as (type, (1,)) / '(1,)type'.\n",
      "  _np_qint16 = np.dtype([(\"qint16\", np.int16, 1)])\n",
      "/home/madbiker/miniconda3/envs/xai/lib/python3.6/site-packages/tensorflow/python/framework/dtypes.py:519: FutureWarning: Passing (type, 1) or '1type' as a synonym of type is deprecated; in a future version of numpy, it will be understood as (type, (1,)) / '(1,)type'.\n",
      "  _np_quint16 = np.dtype([(\"quint16\", np.uint16, 1)])\n",
      "/home/madbiker/miniconda3/envs/xai/lib/python3.6/site-packages/tensorflow/python/framework/dtypes.py:520: FutureWarning: Passing (type, 1) or '1type' as a synonym of type is deprecated; in a future version of numpy, it will be understood as (type, (1,)) / '(1,)type'.\n",
      "  _np_qint32 = np.dtype([(\"qint32\", np.int32, 1)])\n",
      "/home/madbiker/miniconda3/envs/xai/lib/python3.6/site-packages/tensorflow/python/framework/dtypes.py:525: FutureWarning: Passing (type, 1) or '1type' as a synonym of type is deprecated; in a future version of numpy, it will be understood as (type, (1,)) / '(1,)type'.\n",
      "  np_resource = np.dtype([(\"resource\", np.ubyte, 1)])\n",
      "/home/madbiker/miniconda3/envs/xai/lib/python3.6/site-packages/tensorboard/compat/tensorflow_stub/dtypes.py:541: FutureWarning: Passing (type, 1) or '1type' as a synonym of type is deprecated; in a future version of numpy, it will be understood as (type, (1,)) / '(1,)type'.\n",
      "  _np_qint8 = np.dtype([(\"qint8\", np.int8, 1)])\n",
      "/home/madbiker/miniconda3/envs/xai/lib/python3.6/site-packages/tensorboard/compat/tensorflow_stub/dtypes.py:542: FutureWarning: Passing (type, 1) or '1type' as a synonym of type is deprecated; in a future version of numpy, it will be understood as (type, (1,)) / '(1,)type'.\n",
      "  _np_quint8 = np.dtype([(\"quint8\", np.uint8, 1)])\n",
      "/home/madbiker/miniconda3/envs/xai/lib/python3.6/site-packages/tensorboard/compat/tensorflow_stub/dtypes.py:543: FutureWarning: Passing (type, 1) or '1type' as a synonym of type is deprecated; in a future version of numpy, it will be understood as (type, (1,)) / '(1,)type'.\n",
      "  _np_qint16 = np.dtype([(\"qint16\", np.int16, 1)])\n",
      "/home/madbiker/miniconda3/envs/xai/lib/python3.6/site-packages/tensorboard/compat/tensorflow_stub/dtypes.py:544: FutureWarning: Passing (type, 1) or '1type' as a synonym of type is deprecated; in a future version of numpy, it will be understood as (type, (1,)) / '(1,)type'.\n",
      "  _np_quint16 = np.dtype([(\"quint16\", np.uint16, 1)])\n",
      "/home/madbiker/miniconda3/envs/xai/lib/python3.6/site-packages/tensorboard/compat/tensorflow_stub/dtypes.py:545: FutureWarning: Passing (type, 1) or '1type' as a synonym of type is deprecated; in a future version of numpy, it will be understood as (type, (1,)) / '(1,)type'.\n",
      "  _np_qint32 = np.dtype([(\"qint32\", np.int32, 1)])\n",
      "/home/madbiker/miniconda3/envs/xai/lib/python3.6/site-packages/tensorboard/compat/tensorflow_stub/dtypes.py:550: FutureWarning: Passing (type, 1) or '1type' as a synonym of type is deprecated; in a future version of numpy, it will be understood as (type, (1,)) / '(1,)type'.\n",
      "  np_resource = np.dtype([(\"resource\", np.ubyte, 1)])\n"
     ]
    }
   ],
   "source": [
    "import numpy as np\n",
    "import pandas as pd\n",
    "\n",
    "import matplotlib.pyplot as plt\n",
    "\n",
    "import tensorflow as tf\n",
    "from tensorflow import keras\n",
    "\n",
    "import neural_network"
   ]
  },
  {
   "cell_type": "markdown",
   "id": "1214a348-1491-416e-901f-b27799f1e549",
   "metadata": {},
   "source": [
    "## **Loading Test Data**"
   ]
  },
  {
   "cell_type": "code",
   "execution_count": 3,
   "id": "c002018c-fc89-49dc-adfc-1cf12b1dbbc0",
   "metadata": {},
   "outputs": [],
   "source": [
    "X = np.loadtxt(TEST_SET_FEATURES, delimiter=\",\")\n",
    "y = np.loadtxt(TEST_SET_LABELS, delimiter=\",\").reshape((len(X), 1))"
   ]
  },
  {
   "cell_type": "markdown",
   "id": "ca0575a2-c4e5-4621-901c-60548bf2a3db",
   "metadata": {},
   "source": [
    "## **Loading the Model**"
   ]
  },
  {
   "cell_type": "code",
   "execution_count": 4,
   "id": "e8ad3d07-f1d7-425a-a958-22eb87f572a3",
   "metadata": {},
   "outputs": [
    {
     "name": "stdout",
     "output_type": "stream",
     "text": [
      "WARNING:tensorflow:From /home/madbiker/miniconda3/envs/xai/lib/python3.6/site-packages/tensorflow/python/ops/init_ops.py:1251: calling VarianceScaling.__init__ (from tensorflow.python.ops.init_ops) with dtype is deprecated and will be removed in a future version.\n",
      "Instructions for updating:\n",
      "Call initializer instance with the dtype argument instead of passing it to the constructor\n"
     ]
    },
    {
     "data": {
      "text/plain": [
       "<tensorflow.python.training.tracking.util.CheckpointLoadStatus at 0x7f16b7284e48>"
      ]
     },
     "execution_count": 4,
     "metadata": {},
     "output_type": "execute_result"
    }
   ],
   "source": [
    "model = neural_network.create_model(X)\n",
    "\n",
    "model.load_weights(\"../03_models/\"+MODEL_NAME+\"/\")"
   ]
  },
  {
   "cell_type": "markdown",
   "id": "09d2377d-1424-426a-84f1-1b489fb395bd",
   "metadata": {},
   "source": [
    "## **Inference**"
   ]
  },
  {
   "cell_type": "code",
   "execution_count": 5,
   "id": "c7c9bc5d-a990-4134-9050-d2e6e23ad364",
   "metadata": {},
   "outputs": [],
   "source": [
    "predictions = model.predict(X)"
   ]
  },
  {
   "cell_type": "markdown",
   "id": "8669317e-e5ec-4262-92bb-d7d8a32610bd",
   "metadata": {},
   "source": [
    "## **Evaluation**"
   ]
  },
  {
   "cell_type": "code",
   "execution_count": 6,
   "id": "60fd5c20-e6e2-448c-90b4-ef156568e40b",
   "metadata": {},
   "outputs": [],
   "source": [
    "def rescale_labels(original_labels, scaled_labels):\n",
    "    #m = np.mean(original_labels)\n",
    "    #s = np.std(original_labels)\n",
    "    #return scaled_labels*s+m\n",
    "    return scaled_labels*max(original_labels)"
   ]
  },
  {
   "cell_type": "code",
   "execution_count": 7,
   "id": "5bbf979e-d64a-4c49-9a75-4086ebaf1b70",
   "metadata": {},
   "outputs": [],
   "source": [
    "original_labels = pd.read_csv(\"../01_data/adult_reconstruction.csv\")\n",
    "original_labels = original_labels[\"income\"]"
   ]
  },
  {
   "cell_type": "code",
   "execution_count": 8,
   "id": "06537653-4ea9-40c5-b113-2c4d18db104e",
   "metadata": {},
   "outputs": [],
   "source": [
    "rms = np.sqrt((y-predictions)**2)"
   ]
  },
  {
   "cell_type": "code",
   "execution_count": 9,
   "id": "80de7e37-9769-45a7-9a4e-5d2e3b265cd7",
   "metadata": {},
   "outputs": [],
   "source": [
    "rescaled_rms = rescale_labels(original_labels, rms)"
   ]
  },
  {
   "cell_type": "code",
   "execution_count": 10,
   "id": "590de2a9-5fdc-4306-91fa-f721c91006fc",
   "metadata": {},
   "outputs": [
    {
     "data": {
      "text/plain": [
       "(array([492., 342., 261., 225., 174., 124.,  88.,  76.,  72.,  39.,  37.,\n",
       "         33.,  28.,  17.,  21.,  13.,  11.,   4.,   8.,   4.,   6.,   2.,\n",
       "          0.,   1.,   1.,   0.,   0.,   0.,   2.,   1.]),\n",
       " array([2.61381492e+00, 2.62139496e+03, 5.24017611e+03, 7.85895726e+03,\n",
       "        1.04777384e+04, 1.30965196e+04, 1.57153007e+04, 1.83340819e+04,\n",
       "        2.09528630e+04, 2.35716442e+04, 2.61904253e+04, 2.88092065e+04,\n",
       "        3.14279876e+04, 3.40467687e+04, 3.66655499e+04, 3.92843310e+04,\n",
       "        4.19031122e+04, 4.45218933e+04, 4.71406745e+04, 4.97594556e+04,\n",
       "        5.23782368e+04, 5.49970179e+04, 5.76157991e+04, 6.02345802e+04,\n",
       "        6.28533614e+04, 6.54721425e+04, 6.80909237e+04, 7.07097048e+04,\n",
       "        7.33284860e+04, 7.59472671e+04, 7.85660483e+04]),\n",
       " <BarContainer object of 30 artists>)"
      ]
     },
     "execution_count": 10,
     "metadata": {},
     "output_type": "execute_result"
    },
    {
     "data": {
      "image/png": "[encoded data removed]",
      "text/plain": [
       "<Figure size 432x288 with 1 Axes>"
      ]
     },
     "metadata": {
      "needs_background": "light"
     },
     "output_type": "display_data"
    }
   ],
   "source": [
    "plt.hist(rescaled_rms, bins=30)"
   ]
  },
  {
   "cell_type": "code",
   "execution_count": 11,
   "id": "0b749412-98c7-4a12-8dbc-265289be4650",
   "metadata": {},
   "outputs": [
    {
     "data": {
      "text/plain": [
       "(array([412., 529., 397., 325., 243., 108.,  44.,  20.,   2.,   2.]),\n",
       " array([ -1112.80498209,   9191.31382185,  19495.4326258 ,  29799.55142974,\n",
       "         40103.67023369,  50407.78903763,  60711.90784158,  71016.02664552,\n",
       "         81320.14544947,  91624.26425341, 101928.38305736]),\n",
       " <BarContainer object of 10 artists>)"
      ]
     },
     "execution_count": 11,
     "metadata": {},
     "output_type": "execute_result"
    },
    {
     "data": {
      "image/png": "[encoded data removed]",
      "text/plain": [
       "<Figure size 432x288 with 1 Axes>"
      ]
     },
     "metadata": {
      "needs_background": "light"
     },
     "output_type": "display_data"
    }
   ],
   "source": [
    "plt.hist(rescale_labels(original_labels, predictions))"
   ]
  },
  {
   "cell_type": "code",
   "execution_count": 12,
   "id": "96cef0ac-5199-4337-9835-d4f80aa21cef",
   "metadata": {},
   "outputs": [
    {
     "data": {
      "text/plain": [
       "10548.645926547604"
      ]
     },
     "execution_count": 12,
     "metadata": {},
     "output_type": "execute_result"
    }
   ],
   "source": [
    "np.mean(rescaled_rms)"
   ]
  }
 ],
 "metadata": {
  "kernelspec": {
   "display_name": "xai",
   "language": "python",
   "name": "xai"
  },
  "language_info": {
   "codemirror_mode": {
    "name": "ipython",
    "version": 3
   },
   "file_extension": ".py",
   "mimetype": "text/x-python",
   "name": "python",
   "nbconvert_exporter": "python",
   "pygments_lexer": "ipython3",
   "version": "3.6.13"
  }
 },
 "nbformat": 4,
 "nbformat_minor": 5
}
