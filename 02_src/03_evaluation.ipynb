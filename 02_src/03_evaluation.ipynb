{
 "cells": [
  {
   "cell_type": "markdown",
   "id": "afc797eb-01c3-47a3-af95-e3e86ba5e623",
   "metadata": {},
   "source": [
    "# **Evaluating a model**"
   ]
  },
  {
   "cell_type": "code",
   "execution_count": 1,
   "id": "aec4e69a-3fbb-4e46-8723-f2f3ca985853",
   "metadata": {},
   "outputs": [],
   "source": [
    "TEST_SET_FEATURES = \"../01_data/test/well_educated_features.csv\"\n",
    "TEST_SET_LABELS = \"../01_data/test/well_educated_labels.csv\"\n",
    "\n",
    "MODEL_NAME = \"well_educated\""
   ]
  },
  {
   "cell_type": "code",
   "execution_count": 2,
   "id": "a695bdb8-f48a-48a0-b190-ab6f207fe3d1",
   "metadata": {},
   "outputs": [],
   "source": [
    "import numpy as np\n",
    "import pandas as pd\n",
    "\n",
    "import matplotlib.pyplot as plt\n",
    "\n",
    "import tensorflow as tf\n",
    "from tensorflow import keras\n",
    "\n",
    "import neural_network"
   ]
  },
  {
   "cell_type": "markdown",
   "id": "1214a348-1491-416e-901f-b27799f1e549",
   "metadata": {},
   "source": [
    "## **Loading Test Data**"
   ]
  },
  {
   "cell_type": "code",
   "execution_count": 3,
   "id": "c002018c-fc89-49dc-adfc-1cf12b1dbbc0",
   "metadata": {},
   "outputs": [],
   "source": [
    "X = np.loadtxt(TEST_SET_FEATURES, delimiter=\",\")\n",
    "y = np.loadtxt(TEST_SET_LABELS, delimiter=\",\").reshape((len(X), 1))"
   ]
  },
  {
   "cell_type": "markdown",
   "id": "ca0575a2-c4e5-4621-901c-60548bf2a3db",
   "metadata": {},
   "source": [
    "## **Loading the Model**"
   ]
  },
  {
   "cell_type": "code",
   "execution_count": 4,
   "id": "e8ad3d07-f1d7-425a-a958-22eb87f572a3",
   "metadata": {},
   "outputs": [
    {
     "name": "stdout",
     "output_type": "stream",
     "text": [
      "WARNING:tensorflow:Inconsistent references when loading the checkpoint into this object graph. For example, in the saved checkpoint object, `model.layer.weight` and `model.layer_copy.weight` reference the same variable, while in the current object these are two different variables. The referenced variables are:(<keras.layers.core.dense.Dense object at 0x7f4bd059ac20> and <keras.layers.core.dense.Dense object at 0x7f4bd059b610>).\n",
      "WARNING:tensorflow:Inconsistent references when loading the checkpoint into this object graph. For example, in the saved checkpoint object, `model.layer.weight` and `model.layer_copy.weight` reference the same variable, while in the current object these are two different variables. The referenced variables are:(<keras.layers.core.dense.Dense object at 0x7f4bd059b610> and <keras.layers.core.dense.Dense object at 0x7f4bd059b790>).\n",
      "WARNING:tensorflow:Inconsistent references when loading the checkpoint into this object graph. For example, in the saved checkpoint object, `model.layer.weight` and `model.layer_copy.weight` reference the same variable, while in the current object these are two different variables. The referenced variables are:(<keras.layers.core.dense.Dense object at 0x7f4bd059b790> and <keras.layers.core.dense.Dense object at 0x7f4bd059ba60>).\n"
     ]
    },
    {
     "name": "stderr",
     "output_type": "stream",
     "text": [
      "2022-11-19 23:22:34.979583: I tensorflow/core/platform/cpu_feature_guard.cc:193] This TensorFlow binary is optimized with oneAPI Deep Neural Network Library (oneDNN) to use the following CPU instructions in performance-critical operations:  AVX2 FMA\n",
      "To enable them in other operations, rebuild TensorFlow with the appropriate compiler flags.\n",
      "2022-11-19 23:22:35.496643: I tensorflow/core/common_runtime/gpu/gpu_device.cc:1532] Created device /job:localhost/replica:0/task:0/device:GPU:0 with 1621 MB memory:  -> device: 0, name: NVIDIA GeForce GTX 860M, pci bus id: 0000:01:00.0, compute capability: 5.0\n"
     ]
    },
    {
     "data": {
      "text/plain": [
       "<tensorflow.python.training.tracking.util.CheckpointLoadStatus at 0x7f4bd017ab30>"
      ]
     },
     "execution_count": 4,
     "metadata": {},
     "output_type": "execute_result"
    }
   ],
   "source": [
    "model = neural_network.create_model(X)\n",
    "\n",
    "model.load_weights(\"../03_models/\"+MODEL_NAME+\"/\")"
   ]
  },
  {
   "cell_type": "markdown",
   "id": "09d2377d-1424-426a-84f1-1b489fb395bd",
   "metadata": {},
   "source": [
    "## **Inference**"
   ]
  },
  {
   "cell_type": "code",
   "execution_count": 5,
   "id": "c7c9bc5d-a990-4134-9050-d2e6e23ad364",
   "metadata": {},
   "outputs": [
    {
     "name": "stdout",
     "output_type": "stream",
     "text": [
      "32/32 [==============================] - 0s 1ms/step\n"
     ]
    }
   ],
   "source": [
    "predictions = model.predict(X)"
   ]
  },
  {
   "cell_type": "markdown",
   "id": "8669317e-e5ec-4262-92bb-d7d8a32610bd",
   "metadata": {},
   "source": [
    "## **Evaluation**"
   ]
  },
  {
   "cell_type": "code",
   "execution_count": 6,
   "id": "60fd5c20-e6e2-448c-90b4-ef156568e40b",
   "metadata": {},
   "outputs": [],
   "source": [
    "def rescale_labels(original_labels, scaled_labels):\n",
    "    #m = np.mean(original_labels)\n",
    "    #s = np.std(original_labels)\n",
    "    #return scaled_labels*s+m\n",
    "    return scaled_labels*max(original_labels)"
   ]
  },
  {
   "cell_type": "code",
   "execution_count": 7,
   "id": "5bbf979e-d64a-4c49-9a75-4086ebaf1b70",
   "metadata": {},
   "outputs": [],
   "source": [
    "original_labels = pd.read_csv(\"../01_data/adult_reconstruction.csv\")\n",
    "original_labels = original_labels[\"income\"]"
   ]
  },
  {
   "cell_type": "code",
   "execution_count": 8,
   "id": "06537653-4ea9-40c5-b113-2c4d18db104e",
   "metadata": {},
   "outputs": [],
   "source": [
    "rms = np.sqrt((y-predictions)**2)"
   ]
  },
  {
   "cell_type": "code",
   "execution_count": 9,
   "id": "80de7e37-9769-45a7-9a4e-5d2e3b265cd7",
   "metadata": {},
   "outputs": [],
   "source": [
    "rescaled_rms = rescale_labels(original_labels, rms)"
   ]
  },
  {
   "cell_type": "code",
   "execution_count": 10,
   "id": "590de2a9-5fdc-4306-91fa-f721c91006fc",
   "metadata": {},
   "outputs": [
    {
     "data": {
      "text/plain": [
       "(array([110., 100.,  85.,  99.,  76.,  63.,  74.,  53.,  58.,  42.,  29.,\n",
       "         35.,  27.,  32.,  19.,  16.,  17.,  15.,  14.,  13.,   6.,   7.,\n",
       "          7.,   2.,   2.,   0.,   2.,   0.,   2.,   1.]),\n",
       " array([2.21316617e+01, 2.07437094e+03, 4.12661021e+03, 6.17884949e+03,\n",
       "        8.23108876e+03, 1.02833280e+04, 1.23355673e+04, 1.43878066e+04,\n",
       "        1.64400459e+04, 1.84922851e+04, 2.05445244e+04, 2.25967637e+04,\n",
       "        2.46490030e+04, 2.67012422e+04, 2.87534815e+04, 3.08057208e+04,\n",
       "        3.28579601e+04, 3.49101993e+04, 3.69624386e+04, 3.90146779e+04,\n",
       "        4.10669172e+04, 4.31191564e+04, 4.51713957e+04, 4.72236350e+04,\n",
       "        4.92758743e+04, 5.13281136e+04, 5.33803528e+04, 5.54325921e+04,\n",
       "        5.74848314e+04, 5.95370707e+04, 6.15893099e+04]),\n",
       " <BarContainer object of 30 artists>)"
      ]
     },
     "execution_count": 10,
     "metadata": {},
     "output_type": "execute_result"
    },
    {
     "data": {
      "image/png": "[encoded data removed]",
      "text/plain": [
       "<Figure size 640x480 with 1 Axes>"
      ]
     },
     "metadata": {},
     "output_type": "display_data"
    }
   ],
   "source": [
    "plt.hist(rescaled_rms, bins=30)"
   ]
  },
  {
   "cell_type": "code",
   "execution_count": 11,
   "id": "0b749412-98c7-4a12-8dbc-265289be4650",
   "metadata": {},
   "outputs": [
    {
     "data": {
      "text/plain": [
       "(array([ 1.,  3., 14., 18., 12., 12.,  8., 21., 26., 29., 26., 22., 25.,\n",
       "        33., 28., 35., 32., 41., 40., 34., 32., 23., 22., 26., 21., 21.,\n",
       "        34., 21., 35., 25., 37., 38., 51., 42., 27., 20., 14.,  7.,  4.,\n",
       "         7.,  2.,  6.,  9.,  5.,  2.,  9.,  2.,  1.,  1.,  2.]),\n",
       " array([  151.26343426,  2020.45140355,  3889.63937284,  5758.82734213,\n",
       "         7628.01531143,  9497.20328072, 11366.39125001, 13235.5792193 ,\n",
       "        15104.76718859, 16973.95515789, 18843.14312718, 20712.33109647,\n",
       "        22581.51906576, 24450.70703505, 26319.89500434, 28189.08297364,\n",
       "        30058.27094293, 31927.45891222, 33796.64688151, 35665.8348508 ,\n",
       "        37535.0228201 , 39404.21078939, 41273.39875868, 43142.58672797,\n",
       "        45011.77469726, 46880.96266655, 48750.15063585, 50619.33860514,\n",
       "        52488.52657443, 54357.71454372, 56226.90251301, 58096.09048231,\n",
       "        59965.2784516 , 61834.46642089, 63703.65439018, 65572.84235947,\n",
       "        67442.03032877, 69311.21829806, 71180.40626735, 73049.59423664,\n",
       "        74918.78220593, 76787.97017522, 78657.15814452, 80526.34611381,\n",
       "        82395.5340831 , 84264.72205239, 86133.91002168, 88003.09799098,\n",
       "        89872.28596027, 91741.47392956, 93610.66189885]),\n",
       " <BarContainer object of 50 artists>)"
      ]
     },
     "execution_count": 11,
     "metadata": {},
     "output_type": "execute_result"
    },
    {
     "data": {
      "image/png": "[encoded data removed]",
      "text/plain": [
       "<Figure size 640x480 with 1 Axes>"
      ]
     },
     "metadata": {},
     "output_type": "display_data"
    }
   ],
   "source": [
    "plt.hist(rescale_labels(original_labels, predictions), bins=50)"
   ]
  },
  {
   "cell_type": "code",
   "execution_count": 12,
   "id": "96cef0ac-5199-4337-9835-d4f80aa21cef",
   "metadata": {},
   "outputs": [
    {
     "data": {
      "text/plain": [
       "14190.110531667791"
      ]
     },
     "execution_count": 12,
     "metadata": {},
     "output_type": "execute_result"
    }
   ],
   "source": [
    "np.mean(rescaled_rms)"
   ]
  }
 ],
 "metadata": {
  "kernelspec": {
   "display_name": "tf_env",
   "language": "python",
   "name": "tf_env"
  },
  "language_info": {
   "codemirror_mode": {
    "name": "ipython",
    "version": 3
   },
   "file_extension": ".py",
   "mimetype": "text/x-python",
   "name": "python",
   "nbconvert_exporter": "python",
   "pygments_lexer": "ipython3",
   "version": "3.10.4"
  }
 },
 "nbformat": 4,
 "nbformat_minor": 5
}
