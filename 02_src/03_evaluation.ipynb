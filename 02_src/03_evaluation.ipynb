{
 "cells": [
  {
   "cell_type": "markdown",
   "id": "afc797eb-01c3-47a3-af95-e3e86ba5e623",
   "metadata": {},
   "source": [
    "# **Evaluating a model**"
   ]
  },
  {
   "cell_type": "code",
   "execution_count": 10,
   "id": "aec4e69a-3fbb-4e46-8723-f2f3ca985853",
   "metadata": {},
   "outputs": [],
   "source": [
    "TEST_SET_FEATURES = \"../01_data/test/well_educated_features.csv\"\n",
    "TEST_SET_LABELS = \"../01_data/test/well_educated_labels.csv\"\n",
    "\n",
    "MODEL_NAME = \"under_educated\""
   ]
  },
  {
   "cell_type": "code",
   "execution_count": 11,
   "id": "a695bdb8-f48a-48a0-b190-ab6f207fe3d1",
   "metadata": {},
   "outputs": [],
   "source": [
    "import numpy as np\n",
    "import pandas as pd\n",
    "\n",
    "import matplotlib.pyplot as plt\n",
    "\n",
    "import tensorflow as tf\n",
    "from tensorflow import keras\n",
    "\n",
    "import neural_network\n",
    "\n",
    "from sklearn import metrics "
   ]
  },
  {
   "cell_type": "markdown",
   "id": "1214a348-1491-416e-901f-b27799f1e549",
   "metadata": {},
   "source": [
    "## **Loading Test Data**"
   ]
  },
  {
   "cell_type": "code",
   "execution_count": 12,
   "id": "c002018c-fc89-49dc-adfc-1cf12b1dbbc0",
   "metadata": {},
   "outputs": [],
   "source": [
    "X = np.loadtxt(TEST_SET_FEATURES, delimiter=\",\")\n",
    "y = np.loadtxt(TEST_SET_LABELS, delimiter=\",\").reshape((len(X), 3))"
   ]
  },
  {
   "cell_type": "markdown",
   "id": "ca0575a2-c4e5-4621-901c-60548bf2a3db",
   "metadata": {},
   "source": [
    "## **Loading the Model**"
   ]
  },
  {
   "cell_type": "code",
   "execution_count": 13,
   "id": "e8ad3d07-f1d7-425a-a958-22eb87f572a3",
   "metadata": {},
   "outputs": [
    {
     "data": {
      "text/plain": [
       "<tensorflow.python.training.tracking.util.CheckpointLoadStatus at 0x7f42909e4860>"
      ]
     },
     "execution_count": 13,
     "metadata": {},
     "output_type": "execute_result"
    }
   ],
   "source": [
    "model = neural_network.create_model(X)\n",
    "\n",
    "model.load_weights(\"../03_models/\"+MODEL_NAME+\"/\")"
   ]
  },
  {
   "cell_type": "markdown",
   "id": "09d2377d-1424-426a-84f1-1b489fb395bd",
   "metadata": {},
   "source": [
    "## **Inference**"
   ]
  },
  {
   "cell_type": "code",
   "execution_count": 14,
   "id": "c7c9bc5d-a990-4134-9050-d2e6e23ad364",
   "metadata": {},
   "outputs": [],
   "source": [
    "predictions = model.predict(X)"
   ]
  },
  {
   "cell_type": "code",
   "execution_count": 15,
   "id": "ac298585-a831-49e8-b609-a4cd877bcddf",
   "metadata": {},
   "outputs": [],
   "source": [
    "predictions = predictions.argmax(axis=1)"
   ]
  },
  {
   "cell_type": "markdown",
   "id": "8669317e-e5ec-4262-92bb-d7d8a32610bd",
   "metadata": {},
   "source": [
    "## **Evaluation**"
   ]
  },
  {
   "cell_type": "code",
   "execution_count": 16,
   "id": "5bbf979e-d64a-4c49-9a75-4086ebaf1b70",
   "metadata": {},
   "outputs": [],
   "source": [
    "original_labels = y.argmax(axis=1)"
   ]
  },
  {
   "cell_type": "code",
   "execution_count": 19,
   "id": "7649420a-2c76-4e6c-a014-13b65172571f",
   "metadata": {},
   "outputs": [
    {
     "data": {
      "image/png": "[encoded data removed]",
      "text/plain": [
       "<Figure size 432x288 with 2 Axes>"
      ]
     },
     "metadata": {
      "needs_background": "light"
     },
     "output_type": "display_data"
    }
   ],
   "source": [
    "confusion_matrix = metrics.confusion_matrix(original_labels, predictions)\n",
    "cm_display = metrics.ConfusionMatrixDisplay(confusion_matrix = confusion_matrix, ) \n",
    "cm_display.plot()\n",
    "plt.show()"
   ]
  },
  {
   "cell_type": "code",
   "execution_count": 18,
   "id": "93f4349e-c4c0-45cc-ae9f-3f18841ff341",
   "metadata": {},
   "outputs": [
    {
     "name": "stdout",
     "output_type": "stream",
     "text": [
      "accuracy: 0.6191\n"
     ]
    }
   ],
   "source": [
    "print(\"accuracy: %.4f\"%(np.sum(original_labels == predictions)/len(predictions)))"
   ]
  },
  {
   "cell_type": "code",
   "execution_count": null,
   "id": "590de2a9-5fdc-4306-91fa-f721c91006fc",
   "metadata": {},
   "outputs": [],
   "source": [
    "plt.hist(rescaled_rms, bins=30)"
   ]
  },
  {
   "cell_type": "code",
   "execution_count": null,
   "id": "0b749412-98c7-4a12-8dbc-265289be4650",
   "metadata": {},
   "outputs": [],
   "source": [
    "plt.hist(rescale_labels(original_labels, predictions), bins=50)"
   ]
  },
  {
   "cell_type": "code",
   "execution_count": null,
   "id": "96cef0ac-5199-4337-9835-d4f80aa21cef",
   "metadata": {},
   "outputs": [],
   "source": [
    "np.mean(rescaled_rms)"
   ]
  }
 ],
 "metadata": {
  "kernelspec": {
   "display_name": "xai",
   "language": "python",
   "name": "xai"
  },
  "language_info": {
   "codemirror_mode": {
    "name": "ipython",
    "version": 3
   },
   "file_extension": ".py",
   "mimetype": "text/x-python",
   "name": "python",
   "nbconvert_exporter": "python",
   "pygments_lexer": "ipython3",
   "version": "3.6.13"
  }
 },
 "nbformat": 4,
 "nbformat_minor": 5
}
