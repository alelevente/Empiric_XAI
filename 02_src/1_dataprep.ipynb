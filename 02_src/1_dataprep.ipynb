{
 "cells": [
  {
   "cell_type": "markdown",
   "id": "ad476269-7f22-4632-b6cd-5ee44488d35b",
   "metadata": {},
   "source": [
    "# **Data preparation**"
   ]
  },
  {
   "cell_type": "code",
   "execution_count": 60,
   "id": "49389ef3-68c9-450b-8a00-6aa4a7fbabf2",
   "metadata": {},
   "outputs": [],
   "source": [
    "DATA_SOURCE = \"../01_data/adult_reconstruction.csv\"\n",
    "FILE_TO_SAVE = \"../01_data/prepared_data.csv\""
   ]
  },
  {
   "cell_type": "code",
   "execution_count": 3,
   "id": "bc115cfc-4252-495d-bc15-7ee5cd2770f5",
   "metadata": {},
   "outputs": [],
   "source": [
    "import pandas as pd\n",
    "import numpy as np"
   ]
  },
  {
   "cell_type": "code",
   "execution_count": 4,
   "id": "6e33ed36-a5c3-49f2-a132-0b9549c6a1a6",
   "metadata": {},
   "outputs": [],
   "source": [
    "census_data = pd.read_csv(DATA_SOURCE)"
   ]
  },
  {
   "cell_type": "markdown",
   "id": "d4c3cc3a-66d2-4308-a971-396a1bd2fab8",
   "metadata": {},
   "source": [
    "## Overview"
   ]
  },
  {
   "cell_type": "code",
   "execution_count": 5,
   "id": "d4773b03-0580-4374-99c2-d354a45602dd",
   "metadata": {},
   "outputs": [
    {
     "data": {
      "text/html": [
       "<div>\n",
       "<style scoped>\n",
       "    .dataframe tbody tr th:only-of-type {\n",
       "        vertical-align: middle;\n",
       "    }\n",
       "\n",
       "    .dataframe tbody tr th {\n",
       "        vertical-align: top;\n",
       "    }\n",
       "\n",
       "    .dataframe thead th {\n",
       "        text-align: right;\n",
       "    }\n",
       "</style>\n",
       "<table border=\"1\" class=\"dataframe\">\n",
       "  <thead>\n",
       "    <tr style=\"text-align: right;\">\n",
       "      <th></th>\n",
       "      <th>hours-per-week</th>\n",
       "      <th>age</th>\n",
       "      <th>capital-gain</th>\n",
       "      <th>capital-loss</th>\n",
       "      <th>workclass</th>\n",
       "      <th>education</th>\n",
       "      <th>education-num</th>\n",
       "      <th>marital-status</th>\n",
       "      <th>relationship</th>\n",
       "      <th>race</th>\n",
       "      <th>gender</th>\n",
       "      <th>native-country</th>\n",
       "      <th>income</th>\n",
       "      <th>occupation</th>\n",
       "    </tr>\n",
       "  </thead>\n",
       "  <tbody>\n",
       "    <tr>\n",
       "      <th>0</th>\n",
       "      <td>20</td>\n",
       "      <td>40</td>\n",
       "      <td>0</td>\n",
       "      <td>0</td>\n",
       "      <td>Private</td>\n",
       "      <td>Bachelors</td>\n",
       "      <td>13</td>\n",
       "      <td>Married-civ-spouse</td>\n",
       "      <td>Wife</td>\n",
       "      <td>White</td>\n",
       "      <td>Female</td>\n",
       "      <td>United-States</td>\n",
       "      <td>49100</td>\n",
       "      <td>Tech-support</td>\n",
       "    </tr>\n",
       "    <tr>\n",
       "      <th>1</th>\n",
       "      <td>40</td>\n",
       "      <td>21</td>\n",
       "      <td>0</td>\n",
       "      <td>0</td>\n",
       "      <td>Private</td>\n",
       "      <td>Some-college</td>\n",
       "      <td>10</td>\n",
       "      <td>Divorced</td>\n",
       "      <td>Own-child</td>\n",
       "      <td>White</td>\n",
       "      <td>Male</td>\n",
       "      <td>United-States</td>\n",
       "      <td>11500</td>\n",
       "      <td>Craft-repair</td>\n",
       "    </tr>\n",
       "    <tr>\n",
       "      <th>2</th>\n",
       "      <td>10</td>\n",
       "      <td>17</td>\n",
       "      <td>0</td>\n",
       "      <td>0</td>\n",
       "      <td>Private</td>\n",
       "      <td>11th</td>\n",
       "      <td>7</td>\n",
       "      <td>Never-married</td>\n",
       "      <td>Own-child</td>\n",
       "      <td>White</td>\n",
       "      <td>Male</td>\n",
       "      <td>United-States</td>\n",
       "      <td>2600</td>\n",
       "      <td>Other-service</td>\n",
       "    </tr>\n",
       "    <tr>\n",
       "      <th>3</th>\n",
       "      <td>50</td>\n",
       "      <td>51</td>\n",
       "      <td>0</td>\n",
       "      <td>0</td>\n",
       "      <td>Private</td>\n",
       "      <td>HS-grad</td>\n",
       "      <td>9</td>\n",
       "      <td>Married-civ-spouse</td>\n",
       "      <td>Husband</td>\n",
       "      <td>Asian-Pac-Islander</td>\n",
       "      <td>Male</td>\n",
       "      <td>Cambodia</td>\n",
       "      <td>38997</td>\n",
       "      <td>Sales</td>\n",
       "    </tr>\n",
       "    <tr>\n",
       "      <th>4</th>\n",
       "      <td>38</td>\n",
       "      <td>28</td>\n",
       "      <td>0</td>\n",
       "      <td>0</td>\n",
       "      <td>Private</td>\n",
       "      <td>Bachelors</td>\n",
       "      <td>13</td>\n",
       "      <td>Never-married</td>\n",
       "      <td>Not-in-family</td>\n",
       "      <td>White</td>\n",
       "      <td>Male</td>\n",
       "      <td>?</td>\n",
       "      <td>41400</td>\n",
       "      <td>Exec-managerial</td>\n",
       "    </tr>\n",
       "  </tbody>\n",
       "</table>\n",
       "</div>"
      ],
      "text/plain": [
       "   hours-per-week  age  capital-gain  capital-loss workclass     education  \\\n",
       "0              20   40             0             0   Private     Bachelors   \n",
       "1              40   21             0             0   Private  Some-college   \n",
       "2              10   17             0             0   Private          11th   \n",
       "3              50   51             0             0   Private       HS-grad   \n",
       "4              38   28             0             0   Private     Bachelors   \n",
       "\n",
       "   education-num      marital-status   relationship                race  \\\n",
       "0             13  Married-civ-spouse           Wife               White   \n",
       "1             10            Divorced      Own-child               White   \n",
       "2              7       Never-married      Own-child               White   \n",
       "3              9  Married-civ-spouse        Husband  Asian-Pac-Islander   \n",
       "4             13       Never-married  Not-in-family               White   \n",
       "\n",
       "   gender native-country  income       occupation  \n",
       "0  Female  United-States   49100     Tech-support  \n",
       "1    Male  United-States   11500     Craft-repair  \n",
       "2    Male  United-States    2600    Other-service  \n",
       "3    Male       Cambodia   38997            Sales  \n",
       "4    Male              ?   41400  Exec-managerial  "
      ]
     },
     "execution_count": 5,
     "metadata": {},
     "output_type": "execute_result"
    }
   ],
   "source": [
    "census_data.head()"
   ]
  },
  {
   "cell_type": "markdown",
   "id": "4c34e2be-81b6-4639-96ba-22d860a8cbde",
   "metadata": {},
   "source": [
    "## Dropping (label) outliers\n",
    "\n",
    "We will drop those records, which are considered to be outliers (i.e. income>99%)"
   ]
  },
  {
   "cell_type": "code",
   "execution_count": 22,
   "id": "f082aedd-6985-4819-9bcd-d3b959e537c6",
   "metadata": {},
   "outputs": [
    {
     "data": {
      "text/plain": [
       "Text(0.5, 1.0, 'Histogram of incomes\\n(with outliers)')"
      ]
     },
     "execution_count": 22,
     "metadata": {},
     "output_type": "execute_result"
    },
    {
     "data": {
      "image/png": "[encoded data removed]",
      "text/plain": [
       "<Figure size 432x288 with 1 Axes>"
      ]
     },
     "metadata": {
      "needs_background": "light"
     },
     "output_type": "display_data"
    }
   ],
   "source": [
    "import matplotlib.pyplot as plt\n",
    "census_data[\"income\"].hist(bins=20)\n",
    "plt.xlabel(\"income\")\n",
    "plt.ylabel(\"frequency\")\n",
    "plt.title(\"Histogram of incomes\\n(with outliers)\")"
   ]
  },
  {
   "cell_type": "code",
   "execution_count": 26,
   "id": "c29e6b6d-2af4-4497-9050-a36200014ed7",
   "metadata": {},
   "outputs": [],
   "source": [
    "census_data = census_data[census_data[\"income\"] <= census_data[\"income\"].quantile(.99)]"
   ]
  },
  {
   "cell_type": "code",
   "execution_count": 27,
   "id": "4b64078d-eb06-4031-9e23-12d8256d2c51",
   "metadata": {},
   "outputs": [
    {
     "data": {
      "text/plain": [
       "Text(0.5, 1.0, 'Histogram of incomes\\n(withot outliers)')"
      ]
     },
     "execution_count": 27,
     "metadata": {},
     "output_type": "execute_result"
    },
    {
     "data": {
      "image/png": "[encoded data removed]",
      "text/plain": [
       "<Figure size 432x288 with 1 Axes>"
      ]
     },
     "metadata": {
      "needs_background": "light"
     },
     "output_type": "display_data"
    }
   ],
   "source": [
    "import matplotlib.pyplot as plt\n",
    "census_data[\"income\"].hist(bins=20)\n",
    "plt.xlabel(\"income\")\n",
    "plt.ylabel(\"frequency\")\n",
    "plt.title(\"Histogram of incomes\\n(withot outliers)\")"
   ]
  },
  {
   "cell_type": "markdown",
   "id": "fa176e70-5df5-4f9c-b985-5ca64e61467f",
   "metadata": {},
   "source": [
    "## Dropping redundant columns and labels"
   ]
  },
  {
   "cell_type": "code",
   "execution_count": 28,
   "id": "2006b54e-3561-4a3b-8f28-999d7b079d90",
   "metadata": {},
   "outputs": [],
   "source": [
    "x = census_data.drop(columns=[\"education\", \"income\"]) #education: redundant, income: label\n",
    "y = census_data[\"income\"]"
   ]
  },
  {
   "cell_type": "markdown",
   "id": "06b2d922-7639-4481-9be7-34475316cf4d",
   "metadata": {},
   "source": [
    "## Categorical encoding\n",
    "\n",
    "We will encode categorical data as one-hot-encoded vectors"
   ]
  },
  {
   "cell_type": "code",
   "execution_count": 29,
   "id": "0033658a-3171-4816-aea8-8fb04c0e2ad2",
   "metadata": {
    "tags": []
   },
   "outputs": [],
   "source": [
    "import tensorflow as tf"
   ]
  },
  {
   "cell_type": "code",
   "execution_count": 30,
   "id": "632fe5df-e835-4c58-ad77-71e44d57725f",
   "metadata": {},
   "outputs": [],
   "source": [
    "categorical = [\"workclass\", \"marital-status\", \"relationship\", \"race\", \"gender\", \"native-country\", \"occupation\"]"
   ]
  },
  {
   "cell_type": "code",
   "execution_count": 43,
   "id": "89186126-3b40-4348-8f12-436b2e706619",
   "metadata": {},
   "outputs": [],
   "source": [
    "cat_coded = None\n",
    "for category in categorical:\n",
    "    #integer category encoding:\n",
    "    codes = x[category].unique()\n",
    "    code_dictionary = {}\n",
    "    values = []\n",
    "    for i,code in enumerate(codes):\n",
    "        code_dictionary[code] = i\n",
    "    for _,r in x.iterrows():\n",
    "        values.append(code_dictionary[r[category]])\n",
    "        \n",
    "    #one-hot-conding:\n",
    "    encoder = tf.keras.layers.CategoryEncoding(num_tokens=len(code_dictionary),\n",
    "                                             output_mode=\"one_hot\")\n",
    "    cat_coded = encoder(values) if cat_coded is None else np.hstack([cat_coded, encoder(values)])"
   ]
  },
  {
   "cell_type": "markdown",
   "id": "dc151d92-1bb9-41e6-a9ca-b36590f37418",
   "metadata": {},
   "source": [
    "## Scaling"
   ]
  },
  {
   "cell_type": "markdown",
   "id": "00f6c573-720c-4e3e-81d8-f6c3f3e25078",
   "metadata": {},
   "source": [
    "### Features"
   ]
  },
  {
   "cell_type": "code",
   "execution_count": 32,
   "id": "16e28748-7dd0-4eca-92e9-56daaac41b2e",
   "metadata": {},
   "outputs": [],
   "source": [
    "numeric = [\"hours-per-week\", \"age\", \"capital-gain\", \"capital-loss\", \"education-num\"]"
   ]
  },
  {
   "cell_type": "code",
   "execution_count": 57,
   "id": "bbf809dd-d91b-46c2-bc09-aa4ed7e11b5c",
   "metadata": {},
   "outputs": [
    {
     "name": "stdout",
     "output_type": "stream",
     "text": [
      "WARNING:tensorflow:5 out of the last 1460 calls to <function PreprocessingLayer.make_adapt_function.<locals>.adapt_step at 0x7f91133681f0> triggered tf.function retracing. Tracing is expensive and the excessive number of tracings could be due to (1) creating @tf.function repeatedly in a loop, (2) passing tensors with different shapes, (3) passing Python objects instead of tensors. For (1), please define your @tf.function outside of the loop. For (2), @tf.function has reduce_retracing=True option that can avoid unnecessary retracing. For (3), please refer to https://www.tensorflow.org/guide/function#controlling_retracing and https://www.tensorflow.org/api_docs/python/tf/function for  more details.\n"
     ]
    }
   ],
   "source": [
    "num_scaled = None\n",
    "for num in numeric:\n",
    "    scaler = tf.keras.layers.Normalization(axis=None)\n",
    "    scaler.adapt(x[num])\n",
    "    num_scaled = scaler(x[num]).numpy().T if num_scaled is None else np.hstack([num_scaled, scaler(x[num]).numpy().T])"
   ]
  },
  {
   "cell_type": "markdown",
   "id": "75b09b23-d845-40b0-8042-deb7bfecbcd7",
   "metadata": {},
   "source": [
    "### Labels"
   ]
  },
  {
   "cell_type": "code",
   "execution_count": 52,
   "id": "ba154f2e-7ef6-4e52-b9a8-87d78623c755",
   "metadata": {},
   "outputs": [],
   "source": [
    "scaler = tf.keras.layers.Normalization(axis=None)\n",
    "scaler.adapt(y)\n",
    "y = scaler(y).numpy()"
   ]
  },
  {
   "cell_type": "markdown",
   "id": "79e8faf2-b5f1-4e88-89ae-ba7dfc7bebe5",
   "metadata": {},
   "source": [
    "## Combining all above"
   ]
  },
  {
   "cell_type": "code",
   "execution_count": 59,
   "id": "121969dc-a668-4d94-839e-28befc790bda",
   "metadata": {},
   "outputs": [],
   "source": [
    "data = np.hstack([cat_coded, num_scaled, y.T])"
   ]
  },
  {
   "cell_type": "code",
   "execution_count": 61,
   "id": "2c31303b-e922-44bd-b1e3-97cafece17d0",
   "metadata": {},
   "outputs": [],
   "source": [
    "#save data:\n",
    "np.savetxt(FILE_TO_SAVE, data)"
   ]
  }
 ],
 "metadata": {
  "kernelspec": {
   "display_name": "tf_env",
   "language": "python",
   "name": "tf_env"
  },
  "language_info": {
   "codemirror_mode": {
    "name": "ipython",
    "version": 3
   },
   "file_extension": ".py",
   "mimetype": "text/x-python",
   "name": "python",
   "nbconvert_exporter": "python",
   "pygments_lexer": "ipython3",
   "version": "3.10.4"
  }
 },
 "nbformat": 4,
 "nbformat_minor": 5
}
