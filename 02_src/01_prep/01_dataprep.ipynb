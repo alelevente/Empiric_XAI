{
 "cells": [
  {
   "cell_type": "markdown",
   "id": "ad476269-7f22-4632-b6cd-5ee44488d35b",
   "metadata": {},
   "source": [
    "# **Data preparation**"
   ]
  },
  {
   "cell_type": "code",
   "execution_count": 1,
   "id": "49389ef3-68c9-450b-8a00-6aa4a7fbabf2",
   "metadata": {},
   "outputs": [],
   "source": [
    "DATA_SOURCE = \"../../01_data/adult_reconstruction.csv\"\n",
    "FILE_TO_SAVE = \"../../01_data/prepared_data.csv\""
   ]
  },
  {
   "cell_type": "code",
   "execution_count": 2,
   "id": "bc115cfc-4252-495d-bc15-7ee5cd2770f5",
   "metadata": {},
   "outputs": [
    {
     "name": "stderr",
     "output_type": "stream",
     "text": [
      "2022-11-18 15:13:53.311533: I tensorflow/core/platform/cpu_feature_guard.cc:193] This TensorFlow binary is optimized with oneAPI Deep Neural Network Library (oneDNN) to use the following CPU instructions in performance-critical operations:  AVX2 AVX512F AVX512_VNNI FMA\n",
      "To enable them in other operations, rebuild TensorFlow with the appropriate compiler flags.\n",
      "2022-11-18 15:13:53.430693: I tensorflow/core/util/util.cc:169] oneDNN custom operations are on. You may see slightly different numerical results due to floating-point round-off errors from different computation orders. To turn them off, set the environment variable `TF_ENABLE_ONEDNN_OPTS=0`.\n",
      "2022-11-18 15:13:53.434497: W tensorflow/stream_executor/platform/default/dso_loader.cc:64] Could not load dynamic library 'libcudart.so.11.0'; dlerror: libcudart.so.11.0: cannot open shared object file: No such file or directory\n",
      "2022-11-18 15:13:53.434507: I tensorflow/stream_executor/cuda/cudart_stub.cc:29] Ignore above cudart dlerror if you do not have a GPU set up on your machine.\n",
      "2022-11-18 15:13:53.453134: E tensorflow/stream_executor/cuda/cuda_blas.cc:2981] Unable to register cuBLAS factory: Attempting to register factory for plugin cuBLAS when one has already been registered\n",
      "2022-11-18 15:13:53.896861: W tensorflow/stream_executor/platform/default/dso_loader.cc:64] Could not load dynamic library 'libnvinfer.so.7'; dlerror: libnvinfer.so.7: cannot open shared object file: No such file or directory\n",
      "2022-11-18 15:13:53.896902: W tensorflow/stream_executor/platform/default/dso_loader.cc:64] Could not load dynamic library 'libnvinfer_plugin.so.7'; dlerror: libnvinfer_plugin.so.7: cannot open shared object file: No such file or directory\n",
      "2022-11-18 15:13:53.896905: W tensorflow/compiler/tf2tensorrt/utils/py_utils.cc:38] TF-TRT Warning: Cannot dlopen some TensorRT libraries. If you would like to use Nvidia GPU with TensorRT, please make sure the missing libraries mentioned above are installed properly.\n",
      "2022-11-18 15:13:54.361400: W tensorflow/stream_executor/platform/default/dso_loader.cc:64] Could not load dynamic library 'libcuda.so.1'; dlerror: libcuda.so.1: cannot open shared object file: No such file or directory\n",
      "2022-11-18 15:13:54.361419: W tensorflow/stream_executor/cuda/cuda_driver.cc:263] failed call to cuInit: UNKNOWN ERROR (303)\n",
      "2022-11-18 15:13:54.361449: I tensorflow/stream_executor/cuda/cuda_diagnostics.cc:156] kernel driver does not appear to be running on this host (sirmock): /proc/driver/nvidia/version does not exist\n"
     ]
    }
   ],
   "source": [
    "import pandas as pd\n",
    "import numpy as np\n",
    "\n",
    "import preprocessing_utils"
   ]
  },
  {
   "cell_type": "code",
   "execution_count": 3,
   "id": "6e33ed36-a5c3-49f2-a132-0b9549c6a1a6",
   "metadata": {},
   "outputs": [],
   "source": [
    "census_data = pd.read_csv(DATA_SOURCE)"
   ]
  },
  {
   "cell_type": "markdown",
   "id": "d4c3cc3a-66d2-4308-a971-396a1bd2fab8",
   "metadata": {},
   "source": [
    "## Overview"
   ]
  },
  {
   "cell_type": "code",
   "execution_count": 4,
   "id": "d4773b03-0580-4374-99c2-d354a45602dd",
   "metadata": {},
   "outputs": [
    {
     "data": {
      "text/html": [
       "<div>\n",
       "<style scoped>\n",
       "    .dataframe tbody tr th:only-of-type {\n",
       "        vertical-align: middle;\n",
       "    }\n",
       "\n",
       "    .dataframe tbody tr th {\n",
       "        vertical-align: top;\n",
       "    }\n",
       "\n",
       "    .dataframe thead th {\n",
       "        text-align: right;\n",
       "    }\n",
       "</style>\n",
       "<table border=\"1\" class=\"dataframe\">\n",
       "  <thead>\n",
       "    <tr style=\"text-align: right;\">\n",
       "      <th></th>\n",
       "      <th>hours-per-week</th>\n",
       "      <th>age</th>\n",
       "      <th>capital-gain</th>\n",
       "      <th>capital-loss</th>\n",
       "      <th>workclass</th>\n",
       "      <th>education</th>\n",
       "      <th>education-num</th>\n",
       "      <th>marital-status</th>\n",
       "      <th>relationship</th>\n",
       "      <th>race</th>\n",
       "      <th>gender</th>\n",
       "      <th>native-country</th>\n",
       "      <th>income</th>\n",
       "      <th>occupation</th>\n",
       "    </tr>\n",
       "  </thead>\n",
       "  <tbody>\n",
       "    <tr>\n",
       "      <th>0</th>\n",
       "      <td>20</td>\n",
       "      <td>40</td>\n",
       "      <td>0</td>\n",
       "      <td>0</td>\n",
       "      <td>Private</td>\n",
       "      <td>Bachelors</td>\n",
       "      <td>13</td>\n",
       "      <td>Married-civ-spouse</td>\n",
       "      <td>Wife</td>\n",
       "      <td>White</td>\n",
       "      <td>Female</td>\n",
       "      <td>United-States</td>\n",
       "      <td>49100</td>\n",
       "      <td>Tech-support</td>\n",
       "    </tr>\n",
       "    <tr>\n",
       "      <th>1</th>\n",
       "      <td>40</td>\n",
       "      <td>21</td>\n",
       "      <td>0</td>\n",
       "      <td>0</td>\n",
       "      <td>Private</td>\n",
       "      <td>Some-college</td>\n",
       "      <td>10</td>\n",
       "      <td>Divorced</td>\n",
       "      <td>Own-child</td>\n",
       "      <td>White</td>\n",
       "      <td>Male</td>\n",
       "      <td>United-States</td>\n",
       "      <td>11500</td>\n",
       "      <td>Craft-repair</td>\n",
       "    </tr>\n",
       "    <tr>\n",
       "      <th>2</th>\n",
       "      <td>10</td>\n",
       "      <td>17</td>\n",
       "      <td>0</td>\n",
       "      <td>0</td>\n",
       "      <td>Private</td>\n",
       "      <td>11th</td>\n",
       "      <td>7</td>\n",
       "      <td>Never-married</td>\n",
       "      <td>Own-child</td>\n",
       "      <td>White</td>\n",
       "      <td>Male</td>\n",
       "      <td>United-States</td>\n",
       "      <td>2600</td>\n",
       "      <td>Other-service</td>\n",
       "    </tr>\n",
       "    <tr>\n",
       "      <th>3</th>\n",
       "      <td>50</td>\n",
       "      <td>51</td>\n",
       "      <td>0</td>\n",
       "      <td>0</td>\n",
       "      <td>Private</td>\n",
       "      <td>HS-grad</td>\n",
       "      <td>9</td>\n",
       "      <td>Married-civ-spouse</td>\n",
       "      <td>Husband</td>\n",
       "      <td>Asian-Pac-Islander</td>\n",
       "      <td>Male</td>\n",
       "      <td>Cambodia</td>\n",
       "      <td>38997</td>\n",
       "      <td>Sales</td>\n",
       "    </tr>\n",
       "    <tr>\n",
       "      <th>4</th>\n",
       "      <td>38</td>\n",
       "      <td>28</td>\n",
       "      <td>0</td>\n",
       "      <td>0</td>\n",
       "      <td>Private</td>\n",
       "      <td>Bachelors</td>\n",
       "      <td>13</td>\n",
       "      <td>Never-married</td>\n",
       "      <td>Not-in-family</td>\n",
       "      <td>White</td>\n",
       "      <td>Male</td>\n",
       "      <td>?</td>\n",
       "      <td>41400</td>\n",
       "      <td>Exec-managerial</td>\n",
       "    </tr>\n",
       "  </tbody>\n",
       "</table>\n",
       "</div>"
      ],
      "text/plain": [
       "   hours-per-week  age  capital-gain  capital-loss workclass     education  \\\n",
       "0              20   40             0             0   Private     Bachelors   \n",
       "1              40   21             0             0   Private  Some-college   \n",
       "2              10   17             0             0   Private          11th   \n",
       "3              50   51             0             0   Private       HS-grad   \n",
       "4              38   28             0             0   Private     Bachelors   \n",
       "\n",
       "   education-num      marital-status   relationship                race  \\\n",
       "0             13  Married-civ-spouse           Wife               White   \n",
       "1             10            Divorced      Own-child               White   \n",
       "2              7       Never-married      Own-child               White   \n",
       "3              9  Married-civ-spouse        Husband  Asian-Pac-Islander   \n",
       "4             13       Never-married  Not-in-family               White   \n",
       "\n",
       "   gender native-country  income       occupation  \n",
       "0  Female  United-States   49100     Tech-support  \n",
       "1    Male  United-States   11500     Craft-repair  \n",
       "2    Male  United-States    2600    Other-service  \n",
       "3    Male       Cambodia   38997            Sales  \n",
       "4    Male              ?   41400  Exec-managerial  "
      ]
     },
     "execution_count": 4,
     "metadata": {},
     "output_type": "execute_result"
    }
   ],
   "source": [
    "census_data.head()"
   ]
  },
  {
   "cell_type": "code",
   "execution_count": 5,
   "id": "ecd39939-37a0-439e-8e81-044d9e62daca",
   "metadata": {},
   "outputs": [
    {
     "data": {
      "text/plain": [
       "<AxesSubplot:>"
      ]
     },
     "execution_count": 5,
     "metadata": {},
     "output_type": "execute_result"
    },
    {
     "data": {
      "image/png": "[encoded data removed]",
      "text/plain": [
       "<Figure size 432x288 with 2 Axes>"
      ]
     },
     "metadata": {
      "needs_background": "light"
     },
     "output_type": "display_data"
    }
   ],
   "source": [
    "import seaborn as sb\n",
    "corr = census_data.corr()\n",
    "sb.heatmap(corr, cmap=\"Blues\", annot=True)"
   ]
  },
  {
   "cell_type": "markdown",
   "id": "4c34e2be-81b6-4639-96ba-22d860a8cbde",
   "metadata": {},
   "source": [
    "## Dropping (label) outliers\n",
    "\n",
    "We will drop those records, which are considered to be outliers (i.e. income>95%)"
   ]
  },
  {
   "cell_type": "code",
   "execution_count": 6,
   "id": "f082aedd-6985-4819-9bcd-d3b959e537c6",
   "metadata": {},
   "outputs": [
    {
     "data": {
      "text/plain": [
       "Text(0.5, 1.0, 'Histogram of incomes\\n(with outliers)')"
      ]
     },
     "execution_count": 6,
     "metadata": {},
     "output_type": "execute_result"
    },
    {
     "data": {
      "image/png": "[encoded data removed]",
      "text/plain": [
       "<Figure size 432x288 with 1 Axes>"
      ]
     },
     "metadata": {
      "needs_background": "light"
     },
     "output_type": "display_data"
    }
   ],
   "source": [
    "import matplotlib.pyplot as plt\n",
    "census_data[\"income\"].hist(bins=20)\n",
    "plt.xlabel(\"income\")\n",
    "plt.ylabel(\"frequency\")\n",
    "plt.title(\"Histogram of incomes\\n(with outliers)\")"
   ]
  },
  {
   "cell_type": "code",
   "execution_count": 7,
   "id": "c29e6b6d-2af4-4497-9050-a36200014ed7",
   "metadata": {},
   "outputs": [],
   "source": [
    "census_data = census_data[census_data[\"income\"] <= census_data[\"income\"].quantile(.95)]"
   ]
  },
  {
   "cell_type": "code",
   "execution_count": 8,
   "id": "4b64078d-eb06-4031-9e23-12d8256d2c51",
   "metadata": {},
   "outputs": [
    {
     "data": {
      "text/plain": [
       "Text(0.5, 1.0, 'Histogram of incomes\\n(withot outliers)')"
      ]
     },
     "execution_count": 8,
     "metadata": {},
     "output_type": "execute_result"
    },
    {
     "data": {
      "image/png": "[encoded data removed]",
      "text/plain": [
       "<Figure size 432x288 with 1 Axes>"
      ]
     },
     "metadata": {
      "needs_background": "light"
     },
     "output_type": "display_data"
    }
   ],
   "source": [
    "import matplotlib.pyplot as plt\n",
    "census_data[\"income\"].hist(bins=20)\n",
    "plt.xlabel(\"income\")\n",
    "plt.ylabel(\"frequency\")\n",
    "plt.title(\"Histogram of incomes\\n(withot outliers)\")"
   ]
  },
  {
   "cell_type": "code",
   "execution_count": 9,
   "id": "0d4780bc-1eb2-4239-beb2-613a5358984b",
   "metadata": {},
   "outputs": [],
   "source": [
    "census_data = census_data[census_data[\"workclass\"] != \"?\"]"
   ]
  },
  {
   "cell_type": "markdown",
   "id": "c9e976c5-1baa-4721-ae87-ded7d72c05e9",
   "metadata": {},
   "source": [
    "## Partitioning data"
   ]
  },
  {
   "cell_type": "code",
   "execution_count": 10,
   "id": "2dda393a-7916-40ae-b289-8f9c17924cbd",
   "metadata": {},
   "outputs": [],
   "source": [
    "categorical = [\"workclass\",\n",
    "               \"marital-status\",\n",
    "               \"relationship\",\n",
    "               \"race\",\n",
    "               \"gender\",\n",
    "               \"native-country\",\n",
    "               \"occupation\"]\n",
    "numeric = [\"hours-per-week\", \"age\", \"capital-gain\", \"capital-loss\", \"education-num\"]"
   ]
  },
  {
   "cell_type": "code",
   "execution_count": 11,
   "id": "52b60982-e1cf-4c20-9424-3f59680d6f4c",
   "metadata": {},
   "outputs": [],
   "source": [
    "under_educated = census_data[census_data[\"education-num\"] < 10]\n",
    "well_educated = census_data[census_data[\"education-num\"] >= 13]\n",
    "college_educated = census_data[np.logical_and(census_data[\"education-num\"]>=10,\n",
    "                                              census_data[\"education-num\"]<13)]\n",
    "\n",
    "partitioned_dataset = [under_educated, college_educated, well_educated]"
   ]
  },
  {
   "cell_type": "code",
   "execution_count": 12,
   "id": "ba154f2e-7ef6-4e52-b9a8-87d78623c755",
   "metadata": {},
   "outputs": [
    {
     "name": "stderr",
     "output_type": "stream",
     "text": [
      "2022-11-18 15:13:55.795157: I tensorflow/core/platform/cpu_feature_guard.cc:193] This TensorFlow binary is optimized with oneAPI Deep Neural Network Library (oneDNN) to use the following CPU instructions in performance-critical operations:  AVX2 AVX512F AVX512_VNNI FMA\n",
      "To enable them in other operations, rebuild TensorFlow with the appropriate compiler flags.\n"
     ]
    }
   ],
   "source": [
    "partitioned_x = []\n",
    "partitioned_y = []\n",
    "\n",
    "for dataset in partitioned_dataset:\n",
    "    x = dataset.drop(columns=[\"education\", \"income\"])\n",
    "    partitioned_x.append(preprocessing_utils.categorical_encoding_and_scaling(x, categorical, numeric))\n",
    "    #partitioned_y.append(preprocessing_utils.normalize_series(dataset[\"income\"]).reshape([len(x), 1]))\n",
    "    partitioned_y.append(np.array(dataset[\"income\"]/max(census_data[\"income\"])).reshape([len(x), 1]))"
   ]
  },
  {
   "cell_type": "markdown",
   "id": "a875da9f-a9e6-477f-896e-20ab0a3054f6",
   "metadata": {},
   "source": [
    "## Train/Test splitting"
   ]
  },
  {
   "cell_type": "code",
   "execution_count": 13,
   "id": "8b198ff6-49fd-41ee-9282-d59647220b47",
   "metadata": {},
   "outputs": [],
   "source": [
    "TEST_PORTION = .1\n",
    "TRAIN_PATH = \"../../01_data/train/\"\n",
    "TEST_PATH = \"../../01_data/test/\""
   ]
  },
  {
   "cell_type": "code",
   "execution_count": 14,
   "id": "8225ca78-38d7-4233-a34e-ea375ccbdebd",
   "metadata": {},
   "outputs": [],
   "source": [
    "uned_limit = int(TEST_PORTION*len(partitioned_x[0]))\n",
    "np.savetxt(TEST_PATH+\"under_educated_features.csv\", partitioned_x[0][:uned_limit] , delimiter=\",\")\n",
    "np.savetxt(TRAIN_PATH+\"under_educated_features.csv\", partitioned_x[0][uned_limit:], delimiter=\",\")\n",
    "np.savetxt(TEST_PATH+\"under_educated_labels.csv\", partitioned_y[0][:uned_limit]   , delimiter=\",\")\n",
    "np.savetxt(TRAIN_PATH+\"under_educated_labels.csv\", partitioned_y[0][uned_limit:]  , delimiter=\",\")\n",
    "\n",
    "well_limit = int(TEST_PORTION*len(partitioned_x[1]))\n",
    "np.savetxt(TEST_PATH+\"well_educated_features.csv\", partitioned_x[1][:well_limit]  , delimiter=\",\")\n",
    "np.savetxt(TRAIN_PATH+\"well_educated_features.csv\", partitioned_x[1][well_limit:] , delimiter=\",\")\n",
    "np.savetxt(TEST_PATH+\"well_educated_labels.csv\", partitioned_y[1][:well_limit]    , delimiter=\",\")\n",
    "np.savetxt(TRAIN_PATH+\"well_educated_labels.csv\", partitioned_y[1][well_limit:]   , delimiter=\",\")\n",
    "\n",
    "col_limit = int(TEST_PORTION*len(partitioned_x[2]))\n",
    "np.savetxt(TEST_PATH+\"college_educated_features.csv\", partitioned_x[2][:col_limit] , delimiter=\",\")\n",
    "np.savetxt(TRAIN_PATH+\"college_educated_features.csv\", partitioned_x[2][col_limit:], delimiter=\",\")\n",
    "np.savetxt(TEST_PATH+\"college_educated_labels.csv\", partitioned_y[2][:col_limit]   , delimiter=\",\")\n",
    "np.savetxt(TRAIN_PATH+\"college_educated_labels.csv\", partitioned_y[2][col_limit:]  , delimiter=\",\")"
   ]
  }
 ],
 "metadata": {
  "kernelspec": {
   "display_name": "tf_env",
   "language": "python",
   "name": "tf_env"
  },
  "language_info": {
   "codemirror_mode": {
    "name": "ipython",
    "version": 3
   },
   "file_extension": ".py",
   "mimetype": "text/x-python",
   "name": "python",
   "nbconvert_exporter": "python",
   "pygments_lexer": "ipython3",
   "version": "3.10.4"
  }
 },
 "nbformat": 4,
 "nbformat_minor": 5
}
